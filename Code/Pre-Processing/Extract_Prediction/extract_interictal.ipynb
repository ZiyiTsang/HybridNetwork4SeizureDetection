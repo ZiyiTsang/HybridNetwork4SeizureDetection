{
 "cells": [
  {
   "metadata": {
    "ExecuteTime": {
     "end_time": "2024-04-20T15:10:06.018217Z",
     "start_time": "2024-04-20T15:10:03.964498Z"
    }
   },
   "cell_type": "code",
   "source": [
    "import pandas as pd\n",
    "%matplotlib qt\n",
    "import sys\n",
    "import os\n",
    "import warnings\n",
    "from tqdm import tqdm\n",
    "import numpy as np\n",
    "warnings.filterwarnings(\"ignore\", category=RuntimeWarning)\n",
    "sys.path.append('../../')\n",
    "import Utils.Preprocess as ut\n",
    "project_path = os.path.abspath(os.path.relpath('../../../../', os.getcwd()))\n",
    "chb_root_path=os.path.join(project_path,'Dataset/CHB-MIT')\n",
    "constrain_path=os.path.join(project_path,'BilinearNetwork/Data/Constraint/Prediction')\n",
    "save_path=os.path.join(project_path,'BilinearNetwork/Data/PreprocessedData/CHB-MIT/Prediction')"
   ],
   "id": "6e8e64d166676f7d",
   "execution_count": 1,
   "outputs": []
  },
  {
   "metadata": {
    "ExecuteTime": {
     "end_time": "2024-04-20T15:10:06.033601Z",
     "start_time": "2024-04-20T15:10:06.020603Z"
    }
   },
   "cell_type": "code",
   "source": [
    "def extract_epochs(raw_path,start,stop):\n",
    "    raw_T=ut.PreprocessTool(raw_path,start=start,stop=stop,duration=5)\n",
    "    raw_T.do_preprocess().no_overlap_events().cut_epochs()\n",
    "    epochs_data=raw_T.get_epochs().get_data().astype(np.float32)\n",
    "    stft_data=raw_T.get_epochs_stft().astype(np.float32)\n",
    "    del raw_T\n",
    "    return epochs_data,stft_data\n",
    "exclude_file=pd.read_csv(os.path.join(constrain_path,'exclude_File.csv'))\n",
    "exclude_patient=pd.read_csv(os.path.join(constrain_path,'exclude_Patient.csv'))\n",
    "\n",
    "def find_all_files(chb_root_path):\n",
    "    all_files=[]\n",
    "    for root,dirs,files in os.walk(chb_root_path):\n",
    "        for file in files:\n",
    "            if file.endswith('.edf'):\n",
    "                all_files.append(file)\n",
    "    return all_files"
   ],
   "id": "initial_id",
   "execution_count": 2,
   "outputs": []
  },
  {
   "metadata": {
    "ExecuteTime": {
     "end_time": "2024-04-20T15:10:06.049520Z",
     "start_time": "2024-04-20T15:10:06.035107Z"
    }
   },
   "cell_type": "code",
   "source": [
    "small_constrant=list(exclude_file['File Name'])\n",
    "exclude_patient=list(exclude_patient['0'])\n",
    "large_table=find_all_files(chb_root_path)"
   ],
   "id": "d23da3cf51cce3ed",
   "execution_count": 3,
   "outputs": []
  },
  {
   "metadata": {
    "ExecuteTime": {
     "end_time": "2024-04-20T15:10:06.065819Z",
     "start_time": "2024-04-20T15:10:06.051784Z"
    }
   },
   "cell_type": "code",
   "source": [
    "# 将large_table中small_constrant删除\n",
    "select_files=large_table.copy()\n",
    "for file_name in large_table:\n",
    "    prelix=file_name.split('_')[0]\n",
    "    if prelix in exclude_patient:\n",
    "        select_files.remove(file_name)\n",
    "        continue\n",
    "    if file_name in small_constrant:\n",
    "        select_files.remove(file_name)\n",
    "        continue"
   ],
   "id": "6f98e2bfb63150c7",
   "execution_count": 4,
   "outputs": []
  },
  {
   "metadata": {
    "ExecuteTime": {
     "end_time": "2024-04-20T15:10:06.081266Z",
     "start_time": "2024-04-20T15:10:06.067336Z"
    }
   },
   "cell_type": "code",
   "source": [
    "# preictal之前的两个文件，作为interictal\n",
    "select_file_final=[]\n",
    "for i in range(len(select_files)-1):\n",
    "    current_num=int(select_files[i].split('_')[1].split('.')[0])\n",
    "    prelix=select_files[i].split('_')[0]\n",
    "    next_num=int(select_files[i+1].split('_')[1].split('.')[0])\n",
    "    if abs(next_num-current_num)>1:\n",
    "        select_file_final.append(select_files[i])\n",
    "        previous_file_name=prelix+'_'+str(current_num-1).zfill(2)+'.edf'\n",
    "        previous_previous_file_name=prelix+'_'+str(current_num-2).zfill(2)+'.edf'\n",
    "        if previous_file_name in select_files:\n",
    "            select_file_final.append(previous_file_name)\n",
    "        if previous_previous_file_name in select_files:\n",
    "            select_file_final.append(previous_previous_file_name)\n",
    "#  enhance interictal size mannually\n",
    "select_file_final.extend(['chb19_07.edf','chb19_10.edf','chb19_15.edf','chb99_06.edf','chb99_01.edf','chb99_02.edf'])\n",
    "select_file_final.sort()"
   ],
   "id": "cd27bcbd93e241fd",
   "execution_count": 5,
   "outputs": []
  },
  {
   "metadata": {
    "ExecuteTime": {
     "end_time": "2024-04-20T15:10:06.096528Z",
     "start_time": "2024-04-20T15:10:06.083940Z"
    }
   },
   "cell_type": "code",
   "source": "select_file_final",
   "id": "da7faeae0d3f7465",
   "execution_count": 6,
   "outputs": []
  },
  {
   "metadata": {
    "ExecuteTime": {
     "end_time": "2024-04-20T15:15:12.115459Z",
     "start_time": "2024-04-20T15:10:22.318836Z"
    }
   },
   "cell_type": "code",
   "source": [
    "prelix=None\n",
    "local_epochs_stft=[]\n",
    "for file_name in tqdm(select_file_final):\n",
    "    prelix_old=prelix\n",
    "    prelix=file_name.split('_')[0]\n",
    "    if prelix_old!=prelix and prelix!='chb01':\n",
    "        save_path_stft='%s_interictal.npy'%os.path.join(save_path,prelix_old)\n",
    "        local_epochs_stft=np.concatenate(local_epochs_stft,axis=0)\n",
    "        np.save(save_path_stft,local_epochs_stft)\n",
    "        print(local_epochs_stft.shape)\n",
    "        print('-------')\n",
    "        local_epochs_stft=[]\n",
    "\n",
    "    chb_patient_path=os.path.join(chb_root_path,prelix.rstrip('a').rstrip('b').rstrip('c'))\n",
    "    process_file_path=os.path.join(chb_patient_path,file_name)\n",
    "    \n",
    "    start=10\n",
    "    # can set huge number, once larger than EEG recording the mne will take the whole period\n",
    "    stop=6000\n",
    "    \n",
    "    try:\n",
    "        _,local_epoch_stft=extract_epochs(process_file_path,start,stop)\n",
    "        local_epochs_stft.append(local_epoch_stft)\n",
    "    except Exception as e:\n",
    "        print(\"ERROR\")\n",
    "        print(e)\n",
    "        break"
   ],
   "id": "87768a804eef9b3d",
   "execution_count": 8,
   "outputs": []
  },
  {
   "metadata": {},
   "cell_type": "code",
   "source": "",
   "id": "37fd3fccbfe9db41",
   "execution_count": null,
   "outputs": []
  }
 ],
 "metadata": {
  "kernelspec": {
   "display_name": "Python 3",
   "language": "python",
   "name": "python3"
  },
  "language_info": {
   "codemirror_mode": {
    "name": "ipython",
    "version": 2
   },
   "file_extension": ".py",
   "mimetype": "text/x-python",
   "name": "python",
   "nbconvert_exporter": "python",
   "pygments_lexer": "ipython2",
   "version": "2.7.6"
  }
 },
 "nbformat": 4,
 "nbformat_minor": 5
}
