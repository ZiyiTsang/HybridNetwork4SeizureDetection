{
 "cells": [
  {
   "cell_type": "code",
   "id": "initial_id",
   "metadata": {
    "collapsed": true,
    "ExecuteTime": {
     "end_time": "2024-03-31T11:53:23.548988Z",
     "start_time": "2024-03-31T11:53:22.025392Z"
    }
   },
   "source": [
    "import pandas as pd\n",
    "import re\n",
    "import os\n",
    "project_path = os.path.abspath(os.path.relpath('../../../../', os.getcwd()))\n",
    "chb_root_path=os.path.join(project_path,'Dataset/CHB-MIT')\n",
    "out_path=os.path.join(project_path,'BilinearNetwork/Data/Constraint')\n",
    "print(out_path)"
   ],
   "outputs": [
    {
     "name": "stdout",
     "output_type": "stream",
     "text": [
      "E:\\Research\\BilinearNetwork/Data/Constraint\n"
     ]
    }
   ],
   "execution_count": 1
  },
  {
   "metadata": {
    "ExecuteTime": {
     "end_time": "2024-03-31T12:00:57.203970Z",
     "start_time": "2024-03-31T12:00:57.185968Z"
    }
   },
   "cell_type": "code",
   "source": "original_file_name=pd.read_csv(os.path.join(out_path,'seizure_preictal_summary.csv'))",
   "id": "40b2f5c5a84c1a8c",
   "outputs": [],
   "execution_count": 3
  },
  {
   "metadata": {
    "ExecuteTime": {
     "end_time": "2024-03-31T12:01:29.648530Z",
     "start_time": "2024-03-31T12:01:29.642539Z"
    }
   },
   "cell_type": "code",
   "source": "original_file_name=original_file_name['File Name']",
   "id": "36dcca2acef447c1",
   "outputs": [],
   "execution_count": 5
  },
  {
   "metadata": {
    "ExecuteTime": {
     "end_time": "2024-03-31T12:01:34.320612Z",
     "start_time": "2024-03-31T12:01:34.306384Z"
    }
   },
   "cell_type": "code",
   "source": "original_file_name",
   "id": "9d4bd98332c49b4e",
   "outputs": [
    {
     "data": {
      "text/plain": [
       "0      chb01_03.edf\n",
       "1      chb01_04.edf\n",
       "2      chb01_15.edf\n",
       "3      chb01_16.edf\n",
       "4      chb01_18.edf\n",
       "           ...     \n",
       "177    chb23_08.edf\n",
       "178    chb23_09.edf\n",
       "179    chb23_09.edf\n",
       "180    chb23_09.edf\n",
       "181    chb23_09.edf\n",
       "Name: File Name, Length: 182, dtype: object"
      ]
     },
     "execution_count": 6,
     "metadata": {},
     "output_type": "execute_result"
    }
   ],
   "execution_count": 6
  },
  {
   "metadata": {
    "ExecuteTime": {
     "end_time": "2024-03-31T12:07:25.667458Z",
     "start_time": "2024-03-31T12:07:25.648817Z"
    }
   },
   "cell_type": "code",
   "source": [
    "# 定义一个函数 如果chb01_03.edf，则返回chb01_02.edf.如果chb01_16+.edf，则返回chb01_15.edf\n",
    "def get_pre_file_name(file_name):\n",
    "    if '+' in file_name:\n",
    "        file_name=file_name.replace('+','')\n",
    "    file_name=file_name.split('_')\n",
    "    file_name[-1]=str(int(file_name[-1].replace('.edf',''))-1).zfill(2)+'.edf'\n",
    "    file_name='_'.join(file_name)\n",
    "    return file_name\n",
    "filter_file_name=original_file_name.apply(get_pre_file_name)"
   ],
   "id": "c469e52b1797583b",
   "outputs": [],
   "execution_count": 10
  },
  {
   "metadata": {
    "ExecuteTime": {
     "end_time": "2024-03-31T12:09:22.682265Z",
     "start_time": "2024-03-31T12:09:22.675756Z"
    }
   },
   "cell_type": "code",
   "source": "filter_file_name",
   "id": "243f5adf46c0f441",
   "outputs": [
    {
     "data": {
      "text/plain": [
       "0      chb01_02.edf\n",
       "1      chb01_03.edf\n",
       "2      chb01_14.edf\n",
       "3      chb01_15.edf\n",
       "4      chb01_17.edf\n",
       "           ...     \n",
       "177    chb23_07.edf\n",
       "178    chb23_08.edf\n",
       "179    chb23_08.edf\n",
       "180    chb23_08.edf\n",
       "181    chb23_08.edf\n",
       "Name: File Name, Length: 182, dtype: object"
      ]
     },
     "execution_count": 16,
     "metadata": {},
     "output_type": "execute_result"
    }
   ],
   "execution_count": 16
  },
  {
   "metadata": {
    "ExecuteTime": {
     "end_time": "2024-03-31T12:11:35.860698Z",
     "start_time": "2024-03-31T12:11:35.850874Z"
    }
   },
   "cell_type": "code",
   "source": [
    "out_file_name=pd.concat([original_file_name,filter_file_name],axis=0)\n",
    "# 去除重复的\n",
    "out_file_name=out_file_name.drop_duplicates().sort_values()"
   ],
   "id": "ffff91f4ba312f4f",
   "outputs": [],
   "execution_count": 21
  },
  {
   "metadata": {
    "ExecuteTime": {
     "end_time": "2024-03-31T12:16:44.342430Z",
     "start_time": "2024-03-31T12:16:44.325931Z"
    }
   },
   "cell_type": "code",
   "source": "out_file_name.to_csv(os.path.join(out_path,'exclude_File.csv'),index=False)",
   "id": "1ebe7fe34256571",
   "outputs": [],
   "execution_count": 23
  },
  {
   "metadata": {
    "ExecuteTime": {
     "end_time": "2024-03-31T12:19:45.477772Z",
     "start_time": "2024-03-31T12:19:45.468213Z"
    }
   },
   "cell_type": "code",
   "source": [
    "exclude_patient=pd.Series(['chb24','chb12','chb13'])\n",
    "exclude_patient.to_csv(os.path.join(out_path,'exclude_patient.csv'),index=False)"
   ],
   "id": "42d24fd8bfb4910f",
   "outputs": [],
   "execution_count": 24
  },
  {
   "metadata": {},
   "cell_type": "code",
   "outputs": [],
   "execution_count": null,
   "source": "",
   "id": "85cb6ab17d4bcc76"
  }
 ],
 "metadata": {
  "kernelspec": {
   "display_name": "Python 3",
   "language": "python",
   "name": "python3"
  },
  "language_info": {
   "codemirror_mode": {
    "name": "ipython",
    "version": 2
   },
   "file_extension": ".py",
   "mimetype": "text/x-python",
   "name": "python",
   "nbconvert_exporter": "python",
   "pygments_lexer": "ipython2",
   "version": "2.7.6"
  }
 },
 "nbformat": 4,
 "nbformat_minor": 5
}
