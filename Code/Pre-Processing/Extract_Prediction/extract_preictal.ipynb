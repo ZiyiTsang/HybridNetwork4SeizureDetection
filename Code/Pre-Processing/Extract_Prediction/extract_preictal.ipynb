{
 "cells": [
  {
   "cell_type": "code",
   "execution_count": 1,
   "id": "initial_id",
   "metadata": {
    "ExecuteTime": {
     "end_time": "2024-04-20T15:17:21.833068Z",
     "start_time": "2024-04-20T15:17:21.749787Z"
    }
   },
   "source": [
    "import numpy as np\n",
    "import pandas as pd\n",
    "%matplotlib qt\n",
    "import sys\n",
    "import os\n",
    "import warnings\n",
    "from tqdm import tqdm\n",
    "warnings.filterwarnings(\"ignore\", category=RuntimeWarning)\n",
    "sys.path.append('../../')\n",
    "import Utils.Preprocess as ut\n",
    "project_path = os.path.abspath(os.path.relpath('../../../../', os.getcwd()))\n",
    "chb_root_path=os.path.join(project_path,'Dataset/CHB-MIT')\n",
    "\n",
    "constrain_path=os.path.join(project_path,'BilinearNetwork/Data/Constraint/Prediction')\n",
    "seizure_table=pd.read_csv(os.path.join(constrain_path,'seizure_preictal_summary.csv'))\n",
    "\n",
    "exclude_patient=pd.read_csv(os.path.join(project_path,'BilinearNetwork/Data/Constraint/Prediction/exclude_Patient.csv'))\n",
    "\n",
    "save_path=os.path.join(project_path,'BilinearNetwork/Data/PreprocessedData/CHB-MIT/Prediction')"
   ],
   "outputs": []
  },
  {
   "cell_type": "code",
   "execution_count": 2,
   "id": "728edd0021cfcb9b",
   "metadata": {
    "ExecuteTime": {
     "end_time": "2024-04-20T15:17:22.702731Z",
     "start_time": "2024-04-20T15:17:22.685021Z"
    }
   },
   "source": [
    "def extract_epochs(raw_path,start,stop):\n",
    "    raw_T=ut.PreprocessTool(raw_path,duration=5)\n",
    "    raw_T.do_preprocess().overlap_events(start,stop).cut_epochs()\n",
    "    epochs_data=raw_T.get_epochs().get_data().astype(np.float32)\n",
    "    stft_data=raw_T.get_epochs_stft().astype(np.float32)\n",
    "    del raw_T\n",
    "    return epochs_data,stft_data"
   ],
   "outputs": []
  },
  {
   "cell_type": "code",
   "execution_count": 3,
   "id": "1e53ee212776e3fc",
   "metadata": {
    "ExecuteTime": {
     "end_time": "2024-04-20T15:17:23.383879Z",
     "start_time": "2024-04-20T15:17:23.355984Z"
    }
   },
   "source": [
    "for row in tqdm(seizure_table.iterrows(),total=seizure_table.shape[0]):\n",
    "    file_name=row[1]['File Name']\n",
    "    prelix=file_name.split('_')[0]\n",
    "    chb_patient_path=os.path.join(chb_root_path,prelix.rstrip('a').rstrip('b'))\n",
    "    process_file_path=os.path.join(chb_patient_path,file_name)\n",
    "    start=row[1]['Preictal Start Time']\n",
    "    stop=row[1]['Preictal End Time']\n",
    "\n",
    "    if prelix in list(exclude_patient['0']):\n",
    "        continue\n",
    "    if stop-start<5:\n",
    "        continue\n",
    "    try:\n",
    "        _,local_epoch_stft=extract_epochs(process_file_path,start,stop)\n",
    "    except ValueError as e:\n",
    "        print(e)\n",
    "        break\n",
    "    assert local_epoch_stft.shape[0]>0\n",
    "    \n",
    "    np.save(os.path.join(save_path,'{}_preictal.npy'.format(file_name.split('.')[0])),local_epoch_stft)\n",
    "    \n",
    "    \n",
    "    "
   ],
   "outputs": []
  },
  {
   "cell_type": "code",
   "execution_count": null,
   "id": "3ac3a2d04bc70694",
   "metadata": {},
   "source": [
    "# file_name='chb09_08.edf'\n",
    "# prelix=file_name.split('_')[0]\n",
    "# chb_patient_path=os.path.join(chb_root_path,prelix.rstrip('a').rstrip('b'))\n",
    "# process_file_path=os.path.join(chb_patient_path,file_name)\n",
    "# start=7396\n",
    "# stop=8896\n",
    "# \n",
    "# \n",
    "# _,local_epoch_stft=extract_epochs(process_file_path,start,stop)\n",
    "# \n",
    "# np.save(os.path.join(save_path,'chb09_08(1)_preictal.npy'),local_epoch_stft)"
   ],
   "outputs": []
  },
  {
   "cell_type": "code",
   "execution_count": null,
   "id": "f978a6d184bc9218",
   "metadata": {},
   "source": [],
   "outputs": []
  }
 ],
 "metadata": {
  "kernelspec": {
   "display_name": "Python 3 (ipykernel)",
   "language": "python",
   "name": "python3"
  },
  "language_info": {
   "codemirror_mode": {
    "name": "ipython",
    "version": 3
   },
   "file_extension": ".py",
   "mimetype": "text/x-python",
   "name": "python",
   "nbconvert_exporter": "python",
   "pygments_lexer": "ipython3",
   "version": "3.10.0"
  }
 },
 "nbformat": 4,
 "nbformat_minor": 5
}
