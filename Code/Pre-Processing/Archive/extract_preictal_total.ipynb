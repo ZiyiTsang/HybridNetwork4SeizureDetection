{
 "cells": [
  {
   "metadata": {
    "ExecuteTime": {
     "end_time": "2024-04-08T16:47:36.781540Z",
     "start_time": "2024-04-08T16:47:34.588372Z"
    }
   },
   "cell_type": "code",
   "source": [
    "import numpy as np\n",
    "import pandas as pd\n",
    "%matplotlib qt\n",
    "import sys\n",
    "import os\n",
    "import warnings\n",
    "from tqdm import tqdm\n",
    "warnings.filterwarnings(\"ignore\", category=RuntimeWarning)\n",
    "sys.path.append('../../')\n",
    "import Utils.Preprocess as ut\n",
    "project_path = os.path.abspath(os.path.relpath('../../../../', os.getcwd()))\n",
    "chb_root_path=os.path.join(project_path,'Dataset/CHB-MIT')\n",
    "constrain_path=os.path.join(project_path,'BilinearNetwork/Data/Constraint')\n",
    "exclude_patient=pd.read_csv(os.path.join(constrain_path,'exclude_Patient.csv'))\n",
    "seizure_table=pd.read_csv(os.path.join(constrain_path,'seizure_preictal_summary.csv'))"
   ],
   "id": "initial_id",
   "execution_count": 1,
   "outputs": []
  },
  {
   "metadata": {
    "ExecuteTime": {
     "end_time": "2024-04-08T16:47:36.797138Z",
     "start_time": "2024-04-08T16:47:36.783054Z"
    }
   },
   "cell_type": "code",
   "source": [
    "def extract_epochs(raw_path,start,stop):\n",
    "    raw_T=ut.PreprocessTool(raw_path,start=start,stop=stop,duration=5)\n",
    "    raw_T.do_preprocess().overlap_events().cut_epochs()\n",
    "    epochs_data=raw_T.get_epochs().get_data()\n",
    "    stft_data=raw_T.get_epochs_stft()\n",
    "    del raw_T\n",
    "    return epochs_data,stft_data"
   ],
   "id": "728edd0021cfcb9b",
   "execution_count": 2,
   "outputs": []
  },
  {
   "metadata": {
    "ExecuteTime": {
     "end_time": "2024-04-08T16:52:10.513150Z",
     "start_time": "2024-04-08T16:47:36.798289Z"
    }
   },
   "cell_type": "code",
   "source": [
    "local_epochs_time=[]\n",
    "local_epochs_stft=[]\n",
    "local_epoch_time=None\n",
    "prelix=None\n",
    "\n",
    "for row in tqdm(seizure_table.iterrows(),total=seizure_table.shape[0]):\n",
    "    prelix_old=prelix\n",
    "    file_name=row[1]['File Name']\n",
    "    prelix=file_name.split('_')[0]\n",
    "\n",
    "    if prelix_old!=prelix and prelix!='chb01':\n",
    "        # save_path_time='%s_preictal.npy'%os.path.join(os.path.join(project_path,'BilinearNetwork/Data/PreprocessedData/CHB-MIT/Time'),prelix_old)\n",
    "        save_path_stft='%s_preictal'%os.path.join(os.path.join(project_path,'BilinearNetwork/Data/PreprocessedData/CHB-MIT/STFT'),prelix_old)\n",
    "        \n",
    "        if len(local_epochs_stft)>0:\n",
    "            # local_epochs_time=np.concatenate(local_epochs_time,axis=0)\n",
    "            local_epochs_stft=np.concatenate(local_epochs_stft,axis=0).astype(np.float32)\n",
    "            \n",
    "            print(local_epochs_stft.shape)\n",
    "            print('-------')\n",
    "            \n",
    "            # np.save(save_path_time,local_epochs_time)\n",
    "            label=np.ones(local_epochs_stft.shape[0]).astype(np.float32)\n",
    "            np.savez(save_path_stft,data=local_epochs_stft,label=label)\n",
    "            print('Save %s'%save_path_stft)\n",
    "        else:\n",
    "            continue\n",
    "\n",
    "        local_epochs_time=[]\n",
    "        local_epochs_stft=[]\n",
    "\n",
    "\n",
    "    chb_patient_path=os.path.join(chb_root_path,prelix.rstrip('a').rstrip('b'))\n",
    "    process_file_path=os.path.join(chb_patient_path,file_name)\n",
    "    start=row[1]['Preictal Start Time']\n",
    "    stop=row[1]['Preictal End Time']\n",
    "\n",
    "    if prelix in list(exclude_patient['0']):\n",
    "\n",
    "        continue\n",
    "    if stop-start<5:\n",
    "        continue\n",
    "    try:\n",
    "        _,local_epoch_stft=extract_epochs(process_file_path,start,stop)\n",
    "    except ValueError:\n",
    "\n",
    "        continue\n",
    "    assert local_epoch_stft.shape[0]>0\n",
    "    # local_epochs_time.append(local_epoch_time)\n",
    "    \n",
    "    local_epochs_stft.append(local_epoch_stft)\n",
    "    \n",
    "    "
   ],
   "id": "1e53ee212776e3fc",
   "execution_count": 3,
   "outputs": []
  },
  {
   "metadata": {
    "ExecuteTime": {
     "end_time": "2024-04-08T16:52:10.528317Z",
     "start_time": "2024-04-08T16:52:10.515160Z"
    }
   },
   "cell_type": "code",
   "source": "",
   "id": "3ac3a2d04bc70694",
   "execution_count": 3,
   "outputs": []
  }
 ],
 "metadata": {
  "kernelspec": {
   "display_name": "Python 3",
   "language": "python",
   "name": "python3"
  },
  "language_info": {
   "codemirror_mode": {
    "name": "ipython",
    "version": 2
   },
   "file_extension": ".py",
   "mimetype": "text/x-python",
   "name": "python",
   "nbconvert_exporter": "python",
   "pygments_lexer": "ipython2",
   "version": "2.7.6"
  }
 },
 "nbformat": 4,
 "nbformat_minor": 5
}
