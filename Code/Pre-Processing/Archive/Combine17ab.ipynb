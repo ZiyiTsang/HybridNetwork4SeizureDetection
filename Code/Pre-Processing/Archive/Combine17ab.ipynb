{
 "cells": [
  {
   "cell_type": "code",
   "id": "initial_id",
   "metadata": {
    "collapsed": true,
    "ExecuteTime": {
     "end_time": "2024-04-08T16:53:40.952105Z",
     "start_time": "2024-04-08T16:53:40.051672Z"
    }
   },
   "source": [
    "import pandas as pd\n",
    "%matplotlib qt\n",
    "import sys\n",
    "import os\n",
    "import warnings\n",
    "from tqdm import tqdm\n",
    "import numpy as np\n",
    "warnings.filterwarnings(\"ignore\", category=RuntimeWarning)\n",
    "sys.path.append('../../')\n",
    "\n",
    "project_path = os.path.abspath(os.path.relpath('../../../../', os.getcwd()))\n",
    "preprocessed_path=os.path.join(project_path,'BilinearNetwork/Data/PreprocessedData/CHB-MIT/STFT/')\n"
   ],
   "execution_count": 1,
   "outputs": []
  },
  {
   "metadata": {},
   "cell_type": "markdown",
   "source": "Combine the data of chb17a, chb17b, chb17c",
   "id": "fe3133b9d73c176"
  },
  {
   "metadata": {
    "ExecuteTime": {
     "end_time": "2024-04-08T16:53:40.966824Z",
     "start_time": "2024-04-08T16:53:40.954319Z"
    }
   },
   "cell_type": "code",
   "source": [
    "# # 输入一个list的npy地址，定义函数读取并combine在一起\n",
    "# def combine_npy(npys_path:list,save_name:str):\n",
    "#     npys=[]\n",
    "#     for npy_path in npys_path:\n",
    "#         local_npy=np.load(npy_path)\n",
    "#         npys.append(local_npy)\n",
    "#     np.save(preprocessed_path+save_name,np.concatenate(npys,axis=0))\n",
    "def combine_npz(npzs_path: list, save_name: str):\n",
    "    data_list = []\n",
    "    label_list = []\n",
    "    for npz_path in npzs_path:\n",
    "        # 读取npz文件\n",
    "        loaded_npz = np.load(npz_path)\n",
    "        # 获取data和label数组\n",
    "        data = loaded_npz['data']\n",
    "        label = loaded_npz['label']\n",
    "        # 添加到列表中\n",
    "        data_list.append(data)\n",
    "        label_list.append(label)\n",
    "    # 合并所有的data和label数组\n",
    "    combined_data = np.concatenate(data_list, axis=0)\n",
    "    combined_label = np.concatenate(label_list, axis=0)\n",
    "    # 保存合并后的结果\n",
    "    np.savez(save_name, data=combined_data, label=combined_label)\n",
    "def delete_origin(npys_path:list):\n",
    "    for npy_path in npys_path:\n",
    "        if os.path.exists(npy_path):\n",
    "            os.remove(npy_path)\n",
    "def combineAndDelete(npys_path,save_name):\n",
    "    combine_npz(npys_path,save_name)\n",
    "    delete_origin(npys_path)"
   ],
   "id": "537eb0d783e1ab65",
   "execution_count": 2,
   "outputs": []
  },
  {
   "metadata": {
    "ExecuteTime": {
     "end_time": "2024-04-08T16:53:42.107330Z",
     "start_time": "2024-04-08T16:53:40.969334Z"
    }
   },
   "cell_type": "code",
   "source": "combineAndDelete([preprocessed_path+'chb17a_interictal.npz',preprocessed_path+'chb17b_interictal.npz',preprocessed_path+'chb17c_interictal.npz'],'chb17_interictal.npz')\n",
   "id": "f4439b1c3aa94eac",
   "execution_count": 3,
   "outputs": []
  },
  {
   "metadata": {
    "ExecuteTime": {
     "end_time": "2024-04-08T16:53:42.884684Z",
     "start_time": "2024-04-08T16:53:42.109485Z"
    }
   },
   "cell_type": "code",
   "source": "combineAndDelete([preprocessed_path+'chb17a_preictal.npz',preprocessed_path+'chb17b_preictal.npz'],'chb17_preictal.npz')",
   "id": "c0a96b6c5c6f174",
   "execution_count": 4,
   "outputs": []
  },
  {
   "metadata": {},
   "cell_type": "markdown",
   "source": "Combine the interictal and ictal",
   "id": "aafc4268f2513060"
  }
 ],
 "metadata": {
  "kernelspec": {
   "display_name": "Python 3",
   "language": "python",
   "name": "python3"
  },
  "language_info": {
   "codemirror_mode": {
    "name": "ipython",
    "version": 2
   },
   "file_extension": ".py",
   "mimetype": "text/x-python",
   "name": "python",
   "nbconvert_exporter": "python",
   "pygments_lexer": "ipython2",
   "version": "2.7.6"
  }
 },
 "nbformat": 4,
 "nbformat_minor": 5
}
