{
 "cells": [
  {
   "cell_type": "code",
   "id": "b77f81b0f5e8b20f",
   "metadata": {
    "collapsed": true,
    "ExecuteTime": {
     "end_time": "2024-04-22T06:30:48.458366Z",
     "start_time": "2024-04-22T06:30:48.437227Z"
    }
   },
   "source": [
    "import pandas as pd\n",
    "import re\n",
    "import os\n",
    "project_path = os.path.abspath(os.path.relpath('../../../../', os.getcwd()))\n",
    "chb_root_path=os.path.join(project_path,'Dataset/CHB-MIT')\n",
    "out_path=os.path.join(project_path,'BilinearNetwork/Data/Constraint/Detection')\n",
    "print(out_path)"
   ],
   "execution_count": 18,
   "outputs": []
  },
  {
   "metadata": {
    "ExecuteTime": {
     "end_time": "2024-04-22T06:30:48.505164Z",
     "start_time": "2024-04-22T06:30:48.461367Z"
    }
   },
   "cell_type": "code",
   "source": [
    "def get_seizure_summary(chb_name):\n",
    "    local_path=os.path.join(chb_root_path,chb_name)\n",
    "    with open(os.path.join(local_path,'%s-summary.txt'%chb_name), 'r') as file:\n",
    "        lines = file.readlines()\n",
    "    data_dict = {'File Name': [], 'Seizure ID':[],'Start Time': [], 'End Time': []}\n",
    "\n",
    "    seizure_id = 1\n",
    "    def combine(file_name_,seizure_id_,start_time_,end_time_):\n",
    "        \n",
    "        data_dict['File Name'].append(file_name_)\n",
    "        data_dict['Start Time'].append(start_time_)\n",
    "        data_dict['End Time'].append(end_time_)\n",
    "        data_dict['Seizure ID'].append(seizure_id_)\n",
    "        \n",
    "\n",
    "    for i in range(len(lines)):\n",
    "        line = lines[i]\n",
    "\n",
    "        # 如果这一行是文件名\n",
    "        if \"File Name\" in line:\n",
    "            file_name = line.split(\": \")[1].strip()\n",
    "            num_seizures = int(lines[i+3].split(\": \")[1].strip())\n",
    "            # 如果文件中有Seizures\n",
    "            j=i+4\n",
    "            for k in range(num_seizures):\n",
    "                seizure_start = lines[j].split(\": \")[1].strip().split(\" \")[0].strip()\n",
    "                seizure_end = lines[j+1].split(\": \")[1].strip().split(\" \")[0].strip()\n",
    "                combine(file_name,seizure_id,seizure_start,seizure_end)\n",
    "                seizure_id+=1\n",
    "                j+=2\n",
    "        else:\n",
    "            continue\n",
    "    del seizure_id\n",
    "    return pd.DataFrame(data_dict)\n",
    "\n",
    "\n",
    "def get_all_summary():\n",
    "    chb_names = os.listdir(chb_root_path)\n",
    "    df = pd.DataFrame()\n",
    "    for chb_name in chb_names:\n",
    "        df = pd.concat([df, get_seizure_summary(chb_name)])\n",
    "    # 转换为int列\n",
    "    df['Start Time']=df['Start Time'].astype(int)\n",
    "    df['End Time']=df['End Time'].astype(int)\n",
    "    return df\n",
    "df=get_all_summary()\n"
   ],
   "id": "4c8a5e3c670d1dfb",
   "execution_count": 19,
   "outputs": []
  },
  {
   "metadata": {
    "ExecuteTime": {
     "end_time": "2024-04-22T06:30:48.520627Z",
     "start_time": "2024-04-22T06:30:48.508637Z"
    }
   },
   "cell_type": "code",
   "source": [
    "# 定义一个函数，遍历每一行，对于FileName，如果有重复的，只保留最早的那个\n",
    "# def remove_duplicate(df):\n",
    "#     df_=df.copy()\n",
    "#     df_=df_.drop_duplicates(subset='File Name',keep='first')\n",
    "#     df_.reset_index(inplace=True)\n",
    "#     return df_\n",
    "# df_=remove_duplicate(df)\n",
    "# df_.drop(columns='index',inplace=True)"
   ],
   "id": "37e7a51f3e4a2a2b",
   "execution_count": 20,
   "outputs": []
  },
  {
   "metadata": {
    "ExecuteTime": {
     "end_time": "2024-04-22T06:30:48.536625Z",
     "start_time": "2024-04-22T06:30:48.523627Z"
    }
   },
   "cell_type": "code",
   "source": "df.to_csv(os.path.join(out_path,'seizure_ictal_summary.csv'),index=False)",
   "id": "b5ac0193e747451",
   "execution_count": 21,
   "outputs": []
  },
  {
   "metadata": {
    "ExecuteTime": {
     "end_time": "2024-04-22T06:30:48.552647Z",
     "start_time": "2024-04-22T06:30:48.540627Z"
    }
   },
   "cell_type": "code",
   "source": "",
   "id": "446c354ac8863c90",
   "execution_count": 21,
   "outputs": []
  },
  {
   "metadata": {
    "ExecuteTime": {
     "end_time": "2024-04-22T06:30:48.567805Z",
     "start_time": "2024-04-22T06:30:48.554642Z"
    }
   },
   "cell_type": "code",
   "source": "",
   "id": "57ee9a9b25e3dd41",
   "execution_count": 21,
   "outputs": []
  }
 ],
 "metadata": {
  "kernelspec": {
   "display_name": "Python 3",
   "language": "python",
   "name": "python3"
  },
  "language_info": {
   "codemirror_mode": {
    "name": "ipython",
    "version": 2
   },
   "file_extension": ".py",
   "mimetype": "text/x-python",
   "name": "python",
   "nbconvert_exporter": "python",
   "pygments_lexer": "ipython2",
   "version": "2.7.6"
  }
 },
 "nbformat": 4,
 "nbformat_minor": 5
}
