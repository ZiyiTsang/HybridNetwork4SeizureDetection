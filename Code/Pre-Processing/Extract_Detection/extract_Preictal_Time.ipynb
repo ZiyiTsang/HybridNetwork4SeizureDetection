{
 "cells": [
  {
   "cell_type": "code",
   "id": "b77f81b0f5e8b20f",
   "metadata": {
    "collapsed": true,
    "ExecuteTime": {
     "end_time": "2024-04-22T06:30:50.263720Z",
     "start_time": "2024-04-22T06:30:50.251330Z"
    }
   },
   "source": [
    "import pandas as pd\n",
    "import re\n",
    "import os\n",
    "project_path = os.path.abspath(os.path.relpath('../../../../', os.getcwd()))\n",
    "chb_root_path=os.path.join(project_path,'Dataset/CHB-MIT')\n",
    "out_path=os.path.join(project_path,'BilinearNetwork/Data/Constraint/Detection')\n",
    "print(out_path)"
   ],
   "execution_count": 11,
   "outputs": []
  },
  {
   "metadata": {
    "ExecuteTime": {
     "end_time": "2024-04-22T06:30:50.324766Z",
     "start_time": "2024-04-22T06:30:50.267239Z"
    }
   },
   "cell_type": "code",
   "source": [
    "def get_seizure_summary(chb_name):\n",
    "    local_path=os.path.join(chb_root_path,chb_name)\n",
    "    with open(os.path.join(local_path,'%s-summary.txt'%chb_name), 'r') as file:\n",
    "        lines = file.readlines()\n",
    "    data_dict = {'File Name': [], 'Seizure ID':[],'Start Time': [], 'End Time': []}\n",
    "\n",
    "    seizure_id = 1\n",
    "    def combine(file_name_,seizure_id_,start_time_,end_time_):\n",
    "        \n",
    "        data_dict['File Name'].append(file_name_)\n",
    "        data_dict['Start Time'].append(start_time_)\n",
    "        data_dict['End Time'].append(end_time_)\n",
    "        data_dict['Seizure ID'].append(seizure_id_)\n",
    "        \n",
    "\n",
    "    for i in range(len(lines)):\n",
    "        line = lines[i]\n",
    "\n",
    "        # 如果这一行是文件名\n",
    "        if \"File Name\" in line:\n",
    "            file_name = line.split(\": \")[1].strip()\n",
    "            num_seizures = int(lines[i+3].split(\": \")[1].strip())\n",
    "            # 如果文件中有Seizures\n",
    "            j=i+4\n",
    "            for k in range(num_seizures):\n",
    "                seizure_start = lines[j].split(\": \")[1].strip().split(\" \")[0].strip()\n",
    "                seizure_end = lines[j+1].split(\": \")[1].strip().split(\" \")[0].strip()\n",
    "                combine(file_name,seizure_id,seizure_start,seizure_end)\n",
    "                seizure_id+=1\n",
    "                j+=2\n",
    "        else:\n",
    "            continue\n",
    "    del seizure_id\n",
    "    return pd.DataFrame(data_dict)\n",
    "\n",
    "\n",
    "def get_all_summary():\n",
    "    chb_names = os.listdir(chb_root_path)\n",
    "    df = pd.DataFrame()\n",
    "    for chb_name in chb_names:\n",
    "        df = pd.concat([df, get_seizure_summary(chb_name)])\n",
    "    # 转换为int列\n",
    "    df['Start Time']=df['Start Time'].astype(int)\n",
    "    df['End Time']=df['End Time'].astype(int)\n",
    "    return df\n",
    "df=get_all_summary()\n"
   ],
   "id": "4c8a5e3c670d1dfb",
   "execution_count": 12,
   "outputs": []
  },
  {
   "metadata": {
    "ExecuteTime": {
     "end_time": "2024-04-22T06:30:50.339762Z",
     "start_time": "2024-04-22T06:30:50.327759Z"
    }
   },
   "cell_type": "code",
   "source": [
    "# 对于df，我需要取出seizure的开始时间,每一列为秒数。在开始时间前30到5分钟为preictal，请增加两列并计算出相应的时间\n",
    "def get_preictal_time(df):\n",
    "    df['Preictal Start Time'] = df['Start Time'] - 30*60\n",
    "    df['Preictal End Time'] = df['Start Time']\n",
    "    return df\n",
    "\n",
    "df=get_preictal_time(df)\n"
   ],
   "id": "bd906dd8e740e220",
   "execution_count": 13,
   "outputs": []
  },
  {
   "metadata": {
    "ExecuteTime": {
     "end_time": "2024-04-22T06:30:50.355767Z",
     "start_time": "2024-04-22T06:30:50.343761Z"
    }
   },
   "cell_type": "code",
   "source": [
    "del df['Start Time'],df['End Time']\n",
    "df['Preictal Start Time'] = df['Preictal Start Time'].apply(lambda x: x if x>0 else 0)\n",
    "df['Preictal End Time'] = df['Preictal End Time'].apply(lambda x: x if x>0 else 0)"
   ],
   "id": "37594a6540e6ccf0",
   "execution_count": 14,
   "outputs": []
  },
  {
   "metadata": {
    "ExecuteTime": {
     "end_time": "2024-04-22T06:30:50.371165Z",
     "start_time": "2024-04-22T06:30:50.358088Z"
    }
   },
   "cell_type": "code",
   "source": [
    "# # 定义一个函数，遍历每一行，对于FileName，如果有重复的，只保留最早的那个\n",
    "# def remove_duplicate(df):\n",
    "#     df_=df.copy()\n",
    "#     df_=df_.drop_duplicates(subset='File Name',keep='first')\n",
    "#     df_.reset_index(inplace=True)\n",
    "#     return df_\n",
    "# df_=remove_duplicate(df)\n",
    "# df_.drop(columns='index',inplace=True)"
   ],
   "id": "37e7a51f3e4a2a2b",
   "execution_count": 15,
   "outputs": []
  },
  {
   "metadata": {
    "ExecuteTime": {
     "end_time": "2024-04-22T06:30:50.387173Z",
     "start_time": "2024-04-22T06:30:50.374166Z"
    }
   },
   "cell_type": "code",
   "source": "df.to_csv(os.path.join(out_path,'seizure_preictal_summary.csv'),index=False)",
   "id": "b5ac0193e747451",
   "execution_count": 16,
   "outputs": []
  },
  {
   "metadata": {
    "ExecuteTime": {
     "end_time": "2024-04-22T06:30:50.402163Z",
     "start_time": "2024-04-22T06:30:50.389167Z"
    }
   },
   "cell_type": "code",
   "source": "",
   "id": "446c354ac8863c90",
   "execution_count": 16,
   "outputs": []
  },
  {
   "metadata": {
    "ExecuteTime": {
     "end_time": "2024-04-22T06:30:50.417163Z",
     "start_time": "2024-04-22T06:30:50.404166Z"
    }
   },
   "cell_type": "code",
   "source": "",
   "id": "57ee9a9b25e3dd41",
   "execution_count": 16,
   "outputs": []
  }
 ],
 "metadata": {
  "kernelspec": {
   "display_name": "Python 3",
   "language": "python",
   "name": "python3"
  },
  "language_info": {
   "codemirror_mode": {
    "name": "ipython",
    "version": 2
   },
   "file_extension": ".py",
   "mimetype": "text/x-python",
   "name": "python",
   "nbconvert_exporter": "python",
   "pygments_lexer": "ipython2",
   "version": "2.7.6"
  }
 },
 "nbformat": 4,
 "nbformat_minor": 5
}
