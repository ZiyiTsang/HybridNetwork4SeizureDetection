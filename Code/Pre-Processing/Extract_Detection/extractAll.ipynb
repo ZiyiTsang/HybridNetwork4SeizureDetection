{
 "cells": [
  {
   "cell_type": "code",
   "id": "initial_id",
   "metadata": {
    "ExecuteTime": {
     "end_time": "2024-05-30T10:11:50.778962Z",
     "start_time": "2024-05-30T10:11:50.761619Z"
    }
   },
   "source": [
    "import numpy as np\n",
    "import pandas as pd\n",
    "%matplotlib qt\n",
    "import sys\n",
    "import os\n",
    "import warnings\n",
    "from tqdm import tqdm\n",
    "warnings.filterwarnings(\"ignore\", category=RuntimeWarning)\n",
    "sys.path.append('../../')\n",
    "import Utils.Preprocess as ut\n",
    "project_path = os.path.abspath(os.path.relpath('../../../../', os.getcwd()))\n",
    "chb_root_path=os.path.join(project_path,'Dataset/CHB-MIT')\n",
    "\n",
    "constrain_path=os.path.join(project_path,'BilinearNetwork/Data/Constraint/Detection')\n",
    "seizure_table_original=pd.read_csv(os.path.join(constrain_path,'seizure_ictal_summary.csv'))\n",
    "exclude_table=pd.read_csv(os.path.join(constrain_path,'exclude_Patient.csv'))['0'].tolist()\n",
    "save_path=os.path.join(project_path,'BilinearNetwork/Data/PreprocessedData/CHB-MIT/detection2s')"
   ],
   "outputs": [],
   "execution_count": 32
  },
  {
   "metadata": {},
   "cell_type": "markdown",
   "source": "Preictal,ictal",
   "id": "32eaba6e89e13e4a"
  },
  {
   "metadata": {
    "ExecuteTime": {
     "end_time": "2024-05-30T10:11:51.573703Z",
     "start_time": "2024-05-30T10:11:51.565162Z"
    }
   },
   "cell_type": "code",
   "source": [
    "def filter_row(df):\n",
    "    filtered_rows = []\n",
    "    for i in range(1, len(df)):\n",
    "        if df.loc[i, 'File Name'] == df.loc[i-1, 'File Name']:\n",
    "            duration=(df.loc[i, 'Start Time'] - df.loc[i-1, 'End Time'])\n",
    "            if  duration < 1800 and not df['File Name'][i].split('_')[0] in exclude_table:\n",
    "                new=df.loc[i].copy()\n",
    "                new['duration']=duration\n",
    "                filtered_rows.append(new)\n",
    "    return pd.DataFrame(filtered_rows)\n",
    "# filter_row(seizure_table_original)"
   ],
   "id": "5620b496795ff5fc",
   "outputs": [],
   "execution_count": 33
  },
  {
   "metadata": {
    "ExecuteTime": {
     "end_time": "2024-05-30T10:11:51.950862Z",
     "start_time": "2024-05-30T10:11:51.938820Z"
    }
   },
   "cell_type": "code",
   "source": [
    "def get_preictal_data(EEGTool,seizure_pre_begin,seizure_stop):\n",
    "    preictal_data=EEGTool.overlap_events(seizure_pre_begin,seizure_stop,overlap=0.5,duration=2).cut_epochs().get_epochs_stft()\n",
    "    EEGTool.clear()\n",
    "    return preictal_data\n",
    "def get_ictal_data(EEGTool,seizure_begin,seizure_stop):\n",
    "    ictal_data=EEGTool.overlap_events(seizure_begin,seizure_stop,overlap=1.85,duration=2).cut_epochs().get_epochs_stft()\n",
    "    EEGTool.clear()\n",
    "    return ictal_data\n",
    "def get_crossing_data(EEGTool,seizure_begin):\n",
    "    crossing_data=EEGTool.overlap_events(seizure_begin-2,seizure_begin+2,overlap=1.95,duration=2).cut_epochs().get_epochs_stft()\n",
    "    EEGTool.clear()\n",
    "    return crossing_data\n",
    "def get_file_count(seizure_tb):\n",
    "    file_count=seizure_tb['File Name'].apply(lambda x: x.split(\"_\")[0])\n",
    "    return file_count.value_counts()\n",
    "# file_seizure_counts=get_file_count(seizure_table)\n",
    "def save_normal_data(preictal_data,ictal_data,patient,i):\n",
    "    data_X=np.concatenate([preictal_data,ictal_data],axis=0).astype(np.float32)\n",
    "    data_Y=np.concatenate([np.zeros(preictal_data.shape[0]),np.ones(ictal_data.shape[0])],axis=0).astype(np.float32)\n",
    "    np.savez(os.path.join(save_path,'{}-normal-{}.npz'.format(patient,i)),X=data_X,y=data_Y)\n",
    "def save_crossing_data(crossing_data,patient,i):\n",
    "    data_y=np.linspace(0, 1, crossing_data.shape[0], endpoint=False).astype(np.float32)\n",
    "    data_X=crossing_data.astype(np.float32)\n",
    "    np.savez(os.path.join(save_path,'{}-cross-{}.npz'.format(patient,i)),X=data_X,y=data_y)\n",
    "def save_interictal_data(interictal_data,patient_name):\n",
    "    data_X=interictal_data.astype(np.float32)\n",
    "    data_Y=np.zeros(interictal_data.shape[0])\n",
    "    np.savez(os.path.join(save_path,'{}-interictal.npz'.format(patient_name)),X=data_X,y=data_Y)"
   ],
   "id": "ec6fe8b86ea3d19d",
   "outputs": [],
   "execution_count": 34
  },
  {
   "metadata": {
    "ExecuteTime": {
     "end_time": "2024-05-30T10:16:02.319185Z",
     "start_time": "2024-05-30T10:12:01.965948Z"
    }
   },
   "cell_type": "code",
   "source": [
    "patient_name_store=None\n",
    "current_index=0\n",
    "\n",
    "# row=seizure_table.iloc[5,:]\n",
    "for index,row in tqdm(seizure_table_original.iterrows(),total=seizure_table_original.shape[0]):\n",
    "\n",
    "    file_name=row['File Name']\n",
    "    patient_name=file_name.split(\"_\")[0]\n",
    "    if patient_name[-1].isalpha():\n",
    "        patient_name=patient_name[:-1]\n",
    "        \n",
    "    if(patient_name in exclude_table):\n",
    "        continue\n",
    "\n",
    "    if(patient_name!=patient_name_store):\n",
    "        patient_name_store=patient_name\n",
    "        current_index=0\n",
    "    \n",
    "    current_index+=1\n",
    "    seizure_begin,seizure_stop=row['Start Time'],row['End Time']\n",
    "    duration=seizure_stop-seizure_begin\n",
    "    seizure_pre_begin,seizure_pre_stop=seizure_begin-duration*12,seizure_begin\n",
    "    seizure_pre_begin=seizure_pre_begin if seizure_pre_begin>0 else 0\n",
    "    seizure_pre_stop=seizure_pre_stop if seizure_pre_stop>0 else 0\n",
    "    assert seizure_pre_stop>=0\n",
    "    file_path=os.path.join(chb_root_path,\"{}/{}\".format(patient_name,file_name))\n",
    "    raw_T=ut.PreprocessTool(file_path)\n",
    "    raw_T.do_preprocess()\n",
    "\n",
    "\n",
    "    preictal_data=get_preictal_data(raw_T,seizure_pre_begin,seizure_pre_stop)\n",
    "\n",
    "\n",
    "    ictal_data=get_ictal_data(raw_T,seizure_begin,seizure_stop)\n",
    "\n",
    "\n",
    "    crossing_data=get_crossing_data(raw_T,seizure_begin)\n",
    "    \n",
    "    print(preictal_data.shape[0],ictal_data.shape[0],crossing_data.shape[0])\n",
    "\n",
    "    save_normal_data(preictal_data,ictal_data,patient_name,current_index)\n",
    "    save_crossing_data(crossing_data,patient_name,current_index)\n",
    "\n",
    "\n"
   ],
   "id": "2dfb48bbf8d857d7",
   "outputs": [
    {
     "name": "stderr",
     "output_type": "stream",
     "text": [
      "  0%|          | 0/182 [00:00<?, ?it/s]"
     ]
    },
    {
     "name": "stdout",
     "output_type": "stream",
     "text": [
      "Using data from preloaded Raw for 319 events and 513 original time points ...\n",
      "0 bad epochs dropped\n",
      "Using data from preloaded Raw for 254 events and 513 original time points ...\n",
      "0 bad epochs dropped\n",
      "Using data from preloaded Raw for 41 events and 513 original time points ...\n",
      "0 bad epochs dropped\n"
     ]
    },
    {
     "name": "stderr",
     "output_type": "stream",
     "text": [
      "  1%|          | 1/182 [00:01<04:00,  1.33s/it]"
     ]
    },
    {
     "name": "stdout",
     "output_type": "stream",
     "text": [
      "319 254 41\n",
      "Using data from preloaded Raw for 215 events and 513 original time points ...\n",
      "0 bad epochs dropped\n",
      "Using data from preloaded Raw for 167 events and 513 original time points ...\n",
      "0 bad epochs dropped\n",
      "Using data from preloaded Raw for 41 events and 513 original time points ...\n",
      "0 bad epochs dropped\n",
      "215 167 41\n"
     ]
    },
    {
     "name": "stderr",
     "output_type": "stream",
     "text": [
      "  1%|          | 2/182 [00:02<03:40,  1.23s/it]"
     ]
    },
    {
     "name": "stdout",
     "output_type": "stream",
     "text": [
      "Using data from preloaded Raw for 319 events and 513 original time points ...\n",
      "0 bad epochs dropped\n",
      "Using data from preloaded Raw for 254 events and 513 original time points ...\n",
      "0 bad epochs dropped\n",
      "Using data from preloaded Raw for 41 events and 513 original time points ...\n",
      "0 bad epochs dropped\n"
     ]
    },
    {
     "name": "stderr",
     "output_type": "stream",
     "text": [
      "  2%|▏         | 3/182 [00:03<03:44,  1.25s/it]"
     ]
    },
    {
     "name": "stdout",
     "output_type": "stream",
     "text": [
      "319 254 41\n",
      "Using data from preloaded Raw for 407 events and 513 original time points ...\n",
      "0 bad epochs dropped\n",
      "Using data from preloaded Raw for 327 events and 513 original time points ...\n",
      "0 bad epochs dropped\n",
      "Using data from preloaded Raw for 41 events and 513 original time points ...\n",
      "0 bad epochs dropped\n",
      "407 327 41\n"
     ]
    },
    {
     "name": "stderr",
     "output_type": "stream",
     "text": [
      "  2%|▏         | 4/182 [00:05<03:47,  1.28s/it]"
     ]
    },
    {
     "name": "stdout",
     "output_type": "stream",
     "text": [
      "Using data from preloaded Raw for 719 events and 513 original time points ...\n",
      "0 bad epochs dropped\n",
      "Using data from preloaded Raw for 587 events and 513 original time points ...\n",
      "0 bad epochs dropped\n",
      "Using data from preloaded Raw for 41 events and 513 original time points ...\n",
      "0 bad epochs dropped\n"
     ]
    },
    {
     "name": "stderr",
     "output_type": "stream",
     "text": [
      "  3%|▎         | 5/182 [00:06<04:05,  1.39s/it]"
     ]
    },
    {
     "name": "stdout",
     "output_type": "stream",
     "text": [
      "719 587 41\n",
      "Using data from preloaded Raw for 217 events and 513 original time points ...\n",
      "0 bad epochs dropped\n",
      "Using data from preloaded Raw for 607 events and 513 original time points ...\n",
      "0 bad epochs dropped\n",
      "Using data from preloaded Raw for 41 events and 513 original time points ...\n",
      "0 bad epochs dropped\n"
     ]
    },
    {
     "name": "stderr",
     "output_type": "stream",
     "text": [
      "  3%|▎         | 6/182 [00:08<04:01,  1.37s/it]"
     ]
    },
    {
     "name": "stdout",
     "output_type": "stream",
     "text": [
      "217 607 41\n",
      "Using data from preloaded Raw for 807 events and 513 original time points ...\n",
      "0 bad epochs dropped\n",
      "Using data from preloaded Raw for 661 events and 513 original time points ...\n",
      "0 bad epochs dropped\n",
      "Using data from preloaded Raw for 41 events and 513 original time points ...\n",
      "0 bad epochs dropped\n"
     ]
    },
    {
     "name": "stderr",
     "output_type": "stream",
     "text": [
      "  4%|▍         | 7/182 [00:09<03:54,  1.34s/it]"
     ]
    },
    {
     "name": "stdout",
     "output_type": "stream",
     "text": [
      "807 661 41\n",
      "Using data from preloaded Raw for 86 events and 513 original time points ...\n",
      "0 bad epochs dropped\n",
      "Using data from preloaded Raw for 534 events and 513 original time points ...\n",
      "0 bad epochs dropped\n",
      "Using data from preloaded Raw for 41 events and 513 original time points ...\n",
      "0 bad epochs dropped\n",
      "86 534 41\n"
     ]
    },
    {
     "name": "stderr",
     "output_type": "stream",
     "text": [
      "  4%|▍         | 8/182 [00:09<03:11,  1.10s/it]"
     ]
    },
    {
     "name": "stdout",
     "output_type": "stream",
     "text": [
      "Using data from preloaded Raw for 647 events and 513 original time points ...\n",
      "0 bad epochs dropped\n",
      "Using data from preloaded Raw for 527 events and 513 original time points ...\n",
      "0 bad epochs dropped\n",
      "Using data from preloaded Raw for 41 events and 513 original time points ...\n",
      "0 bad epochs dropped\n",
      "647 527 41\n"
     ]
    },
    {
     "name": "stderr",
     "output_type": "stream",
     "text": [
      "  5%|▍         | 9/182 [00:11<03:31,  1.22s/it]"
     ]
    },
    {
     "name": "stdout",
     "output_type": "stream",
     "text": [
      "Using data from preloaded Raw for 71 events and 513 original time points ...\n",
      "0 bad epochs dropped\n",
      "Using data from preloaded Raw for 47 events and 513 original time points ...\n",
      "0 bad epochs dropped\n",
      "Using data from preloaded Raw for 41 events and 513 original time points ...\n",
      "0 bad epochs dropped\n"
     ]
    },
    {
     "name": "stderr",
     "output_type": "stream",
     "text": [
      "  5%|▌         | 10/182 [00:12<03:19,  1.16s/it]"
     ]
    },
    {
     "name": "stdout",
     "output_type": "stream",
     "text": [
      "71 47 41\n",
      "Using data from preloaded Raw for 241 events and 513 original time points ...\n",
      "0 bad epochs dropped\n",
      "Using data from preloaded Raw for 334 events and 513 original time points ...\n",
      "0 bad epochs dropped\n",
      "Using data from preloaded Raw for 41 events and 513 original time points ...\n",
      "0 bad epochs dropped\n"
     ]
    },
    {
     "name": "stderr",
     "output_type": "stream",
     "text": [
      "  6%|▌         | 11/182 [00:13<03:21,  1.18s/it]"
     ]
    },
    {
     "name": "stdout",
     "output_type": "stream",
     "text": [
      "241 334 41\n",
      "Using data from preloaded Raw for 487 events and 513 original time points ...\n",
      "0 bad epochs dropped\n",
      "Using data from preloaded Raw for 421 events and 513 original time points ...\n",
      "0 bad epochs dropped\n",
      "Using data from preloaded Raw for 41 events and 513 original time points ...\n",
      "0 bad epochs dropped\n",
      "487 421 41\n"
     ]
    },
    {
     "name": "stderr",
     "output_type": "stream",
     "text": [
      "  7%|▋         | 12/182 [00:14<03:31,  1.24s/it]"
     ]
    },
    {
     "name": "stdout",
     "output_type": "stream",
     "text": [
      "Using data from preloaded Raw for 287 events and 513 original time points ...\n",
      "0 bad epochs dropped\n",
      "Using data from preloaded Raw for 447 events and 513 original time points ...\n",
      "0 bad epochs dropped\n",
      "Using data from preloaded Raw for 41 events and 513 original time points ...\n",
      "0 bad epochs dropped\n",
      "287 447 41\n"
     ]
    },
    {
     "name": "stderr",
     "output_type": "stream",
     "text": [
      "  7%|▋         | 13/182 [00:16<03:32,  1.26s/it]"
     ]
    },
    {
     "name": "stdout",
     "output_type": "stream",
     "text": [
      "Using data from preloaded Raw for 415 events and 513 original time points ...\n",
      "0 bad epochs dropped\n",
      "Using data from preloaded Raw for 334 events and 513 original time points ...\n",
      "0 bad epochs dropped\n",
      "Using data from preloaded Raw for 41 events and 513 original time points ...\n",
      "0 bad epochs dropped\n"
     ]
    },
    {
     "name": "stderr",
     "output_type": "stream",
     "text": [
      "  8%|▊         | 14/182 [00:17<03:33,  1.27s/it]"
     ]
    },
    {
     "name": "stdout",
     "output_type": "stream",
     "text": [
      "415 334 41\n",
      "Using data from preloaded Raw for 375 events and 513 original time points ...\n",
      "0 bad epochs dropped\n",
      "Using data from preloaded Raw for 301 events and 513 original time points ...\n",
      "0 bad epochs dropped\n",
      "Using data from preloaded Raw for 41 events and 513 original time points ...\n",
      "0 bad epochs dropped\n"
     ]
    },
    {
     "name": "stderr",
     "output_type": "stream",
     "text": [
      "  8%|▊         | 15/182 [00:18<03:32,  1.27s/it]"
     ]
    },
    {
     "name": "stdout",
     "output_type": "stream",
     "text": [
      "375 301 41\n",
      "Using data from preloaded Raw for 511 events and 513 original time points ...\n",
      "0 bad epochs dropped\n",
      "Using data from preloaded Raw for 414 events and 513 original time points ...\n",
      "0 bad epochs dropped\n",
      "Using data from preloaded Raw for 41 events and 513 original time points ...\n",
      "0 bad epochs dropped\n",
      "511 414 41\n"
     ]
    },
    {
     "name": "stderr",
     "output_type": "stream",
     "text": [
      "  9%|▉         | 16/182 [00:20<03:36,  1.30s/it]"
     ]
    },
    {
     "name": "stdout",
     "output_type": "stream",
     "text": [
      "Using data from preloaded Raw for 423 events and 513 original time points ...\n",
      "0 bad epochs dropped\n",
      "Using data from preloaded Raw for 341 events and 513 original time points ...\n",
      "0 bad epochs dropped\n",
      "Using data from preloaded Raw for 41 events and 513 original time points ...\n",
      "0 bad epochs dropped\n",
      "423 341 41\n"
     ]
    },
    {
     "name": "stderr",
     "output_type": "stream",
     "text": [
      "  9%|▉         | 17/182 [00:21<03:35,  1.31s/it]"
     ]
    },
    {
     "name": "stdout",
     "output_type": "stream",
     "text": [
      "Using data from preloaded Raw for 391 events and 513 original time points ...\n",
      "0 bad epochs dropped\n",
      "Using data from preloaded Raw for 314 events and 513 original time points ...\n",
      "0 bad epochs dropped\n",
      "Using data from preloaded Raw for 41 events and 513 original time points ...\n",
      "0 bad epochs dropped\n"
     ]
    },
    {
     "name": "stderr",
     "output_type": "stream",
     "text": [
      " 10%|▉         | 18/182 [00:24<04:47,  1.75s/it]"
     ]
    },
    {
     "name": "stdout",
     "output_type": "stream",
     "text": [
      "391 314 41\n",
      "Using data from preloaded Raw for 887 events and 513 original time points ...\n",
      "0 bad epochs dropped\n",
      "Using data from preloaded Raw for 727 events and 513 original time points ...\n",
      "0 bad epochs dropped\n",
      "Using data from preloaded Raw for 41 events and 513 original time points ...\n",
      "0 bad epochs dropped\n"
     ]
    },
    {
     "name": "stderr",
     "output_type": "stream",
     "text": [
      " 10%|█         | 19/182 [00:28<06:57,  2.56s/it]"
     ]
    },
    {
     "name": "stdout",
     "output_type": "stream",
     "text": [
      "887 727 41\n",
      "Using data from preloaded Raw for 815 events and 513 original time points ...\n",
      "0 bad epochs dropped\n",
      "Using data from preloaded Raw for 667 events and 513 original time points ...\n",
      "0 bad epochs dropped\n",
      "Using data from preloaded Raw for 41 events and 513 original time points ...\n",
      "0 bad epochs dropped\n"
     ]
    },
    {
     "name": "stderr",
     "output_type": "stream",
     "text": [
      " 11%|█         | 20/182 [00:33<08:25,  3.12s/it]"
     ]
    },
    {
     "name": "stdout",
     "output_type": "stream",
     "text": [
      "815 667 41\n",
      "Using data from preloaded Raw for 927 events and 513 original time points ...\n",
      "0 bad epochs dropped\n",
      "Using data from preloaded Raw for 761 events and 513 original time points ...\n",
      "0 bad epochs dropped\n",
      "Using data from preloaded Raw for 41 events and 513 original time points ...\n",
      "0 bad epochs dropped\n"
     ]
    },
    {
     "name": "stderr",
     "output_type": "stream",
     "text": [
      " 12%|█▏        | 21/182 [00:37<09:31,  3.55s/it]"
     ]
    },
    {
     "name": "stdout",
     "output_type": "stream",
     "text": [
      "927 761 41\n",
      "Using data from preloaded Raw for 277 events and 513 original time points ...\n",
      "0 bad epochs dropped\n",
      "Using data from preloaded Raw for 754 events and 513 original time points ...\n",
      "0 bad epochs dropped\n",
      "Using data from preloaded Raw for 41 events and 513 original time points ...\n",
      "0 bad epochs dropped\n"
     ]
    },
    {
     "name": "stderr",
     "output_type": "stream",
     "text": [
      " 12%|█▏        | 22/182 [00:39<07:55,  2.97s/it]"
     ]
    },
    {
     "name": "stdout",
     "output_type": "stream",
     "text": [
      "277 754 41\n",
      "Using data from preloaded Raw for 723 events and 513 original time points ...\n",
      "0 bad epochs dropped\n",
      "Using data from preloaded Raw for 721 events and 513 original time points ...\n",
      "0 bad epochs dropped\n",
      "Using data from preloaded Raw for 41 events and 513 original time points ...\n",
      "0 bad epochs dropped\n"
     ]
    },
    {
     "name": "stderr",
     "output_type": "stream",
     "text": [
      " 13%|█▎        | 23/182 [00:41<06:56,  2.62s/it]"
     ]
    },
    {
     "name": "stdout",
     "output_type": "stream",
     "text": [
      "723 721 41\n",
      "Using data from preloaded Raw for 767 events and 513 original time points ...\n",
      "0 bad epochs dropped\n",
      "Using data from preloaded Raw for 627 events and 513 original time points ...\n",
      "0 bad epochs dropped\n",
      "Using data from preloaded Raw for 41 events and 513 original time points ...\n",
      "0 bad epochs dropped\n"
     ]
    },
    {
     "name": "stderr",
     "output_type": "stream",
     "text": [
      " 13%|█▎        | 24/182 [00:43<06:18,  2.39s/it]"
     ]
    },
    {
     "name": "stdout",
     "output_type": "stream",
     "text": [
      "767 627 41\n",
      "Using data from preloaded Raw for 959 events and 513 original time points ...\n",
      "0 bad epochs dropped\n",
      "Using data from preloaded Raw for 787 events and 513 original time points ...\n",
      "0 bad epochs dropped\n",
      "Using data from preloaded Raw for 41 events and 513 original time points ...\n",
      "0 bad epochs dropped\n"
     ]
    },
    {
     "name": "stderr",
     "output_type": "stream",
     "text": [
      " 14%|█▎        | 25/182 [00:45<05:58,  2.29s/it]"
     ]
    },
    {
     "name": "stdout",
     "output_type": "stream",
     "text": [
      "959 787 41\n",
      "Using data from preloaded Raw for 935 events and 513 original time points ...\n",
      "0 bad epochs dropped\n",
      "Using data from preloaded Raw for 767 events and 513 original time points ...\n",
      "0 bad epochs dropped\n",
      "Using data from preloaded Raw for 41 events and 513 original time points ...\n",
      "0 bad epochs dropped\n"
     ]
    },
    {
     "name": "stderr",
     "output_type": "stream",
     "text": [
      " 14%|█▍        | 26/182 [00:47<05:42,  2.20s/it]"
     ]
    },
    {
     "name": "stdout",
     "output_type": "stream",
     "text": [
      "935 767 41\n",
      "Using data from preloaded Raw for 111 events and 513 original time points ...\n",
      "0 bad epochs dropped\n",
      "Using data from preloaded Raw for 81 events and 513 original time points ...\n",
      "0 bad epochs dropped\n",
      "Using data from preloaded Raw for 41 events and 513 original time points ...\n",
      "0 bad epochs dropped\n"
     ]
    },
    {
     "name": "stderr",
     "output_type": "stream",
     "text": [
      " 15%|█▍        | 27/182 [00:52<07:47,  3.02s/it]"
     ]
    },
    {
     "name": "stdout",
     "output_type": "stream",
     "text": [
      "111 81 41\n",
      "Using data from preloaded Raw for 119 events and 513 original time points ...\n",
      "0 bad epochs dropped\n",
      "Using data from preloaded Raw for 87 events and 513 original time points ...\n",
      "0 bad epochs dropped\n",
      "Using data from preloaded Raw for 41 events and 513 original time points ...\n",
      "0 bad epochs dropped\n"
     ]
    },
    {
     "name": "stderr",
     "output_type": "stream",
     "text": [
      " 15%|█▌        | 28/182 [00:56<08:51,  3.45s/it]"
     ]
    },
    {
     "name": "stdout",
     "output_type": "stream",
     "text": [
      "119 87 41\n",
      "Using data from preloaded Raw for 119 events and 513 original time points ...\n",
      "0 bad epochs dropped\n",
      "Using data from preloaded Raw for 87 events and 513 original time points ...\n",
      "0 bad epochs dropped\n",
      "Using data from preloaded Raw for 41 events and 513 original time points ...\n",
      "0 bad epochs dropped\n"
     ]
    },
    {
     "name": "stderr",
     "output_type": "stream",
     "text": [
      " 16%|█▌        | 29/182 [01:00<09:35,  3.76s/it]"
     ]
    },
    {
     "name": "stdout",
     "output_type": "stream",
     "text": [
      "119 87 41\n",
      "Using data from preloaded Raw for 159 events and 513 original time points ...\n",
      "0 bad epochs dropped\n",
      "Using data from preloaded Raw for 121 events and 513 original time points ...\n",
      "0 bad epochs dropped\n",
      "Using data from preloaded Raw for 41 events and 513 original time points ...\n",
      "0 bad epochs dropped\n"
     ]
    },
    {
     "name": "stderr",
     "output_type": "stream",
     "text": [
      " 16%|█▋        | 30/182 [01:04<09:43,  3.84s/it]"
     ]
    },
    {
     "name": "stdout",
     "output_type": "stream",
     "text": [
      "159 121 41\n",
      "Using data from preloaded Raw for 159 events and 513 original time points ...\n",
      "0 bad epochs dropped\n",
      "Using data from preloaded Raw for 121 events and 513 original time points ...\n",
      "0 bad epochs dropped\n",
      "Using data from preloaded Raw for 41 events and 513 original time points ...\n",
      "0 bad epochs dropped\n"
     ]
    },
    {
     "name": "stderr",
     "output_type": "stream",
     "text": [
      " 17%|█▋        | 31/182 [01:08<09:32,  3.79s/it]"
     ]
    },
    {
     "name": "stdout",
     "output_type": "stream",
     "text": [
      "159 121 41\n",
      "Using data from preloaded Raw for 127 events and 513 original time points ...\n",
      "0 bad epochs dropped\n",
      "Using data from preloaded Raw for 94 events and 513 original time points ...\n",
      "0 bad epochs dropped\n",
      "Using data from preloaded Raw for 41 events and 513 original time points ...\n",
      "0 bad epochs dropped\n"
     ]
    },
    {
     "name": "stderr",
     "output_type": "stream",
     "text": [
      " 18%|█▊        | 32/182 [01:12<09:41,  3.87s/it]"
     ]
    },
    {
     "name": "stdout",
     "output_type": "stream",
     "text": [
      "127 94 41\n",
      "Using data from preloaded Raw for 95 events and 513 original time points ...\n",
      "0 bad epochs dropped\n",
      "Using data from preloaded Raw for 67 events and 513 original time points ...\n",
      "0 bad epochs dropped\n",
      "Using data from preloaded Raw for 41 events and 513 original time points ...\n",
      "0 bad epochs dropped\n"
     ]
    },
    {
     "name": "stderr",
     "output_type": "stream",
     "text": [
      " 18%|█▊        | 33/182 [01:16<09:42,  3.91s/it]"
     ]
    },
    {
     "name": "stdout",
     "output_type": "stream",
     "text": [
      "95 67 41\n",
      "Using data from preloaded Raw for 103 events and 513 original time points ...\n",
      "0 bad epochs dropped\n",
      "Using data from preloaded Raw for 74 events and 513 original time points ...\n",
      "0 bad epochs dropped\n",
      "Using data from preloaded Raw for 41 events and 513 original time points ...\n",
      "0 bad epochs dropped\n"
     ]
    },
    {
     "name": "stderr",
     "output_type": "stream",
     "text": [
      " 19%|█▊        | 34/182 [01:20<09:53,  4.01s/it]"
     ]
    },
    {
     "name": "stdout",
     "output_type": "stream",
     "text": [
      "103 74 41\n",
      "Using data from preloaded Raw for 95 events and 513 original time points ...\n",
      "0 bad epochs dropped\n",
      "Using data from preloaded Raw for 67 events and 513 original time points ...\n",
      "0 bad epochs dropped\n",
      "Using data from preloaded Raw for 41 events and 513 original time points ...\n",
      "0 bad epochs dropped\n"
     ]
    },
    {
     "name": "stderr",
     "output_type": "stream",
     "text": [
      " 19%|█▉        | 35/182 [01:23<08:31,  3.48s/it]"
     ]
    },
    {
     "name": "stdout",
     "output_type": "stream",
     "text": [
      "95 67 41\n",
      "Using data from preloaded Raw for 127 events and 513 original time points ...\n",
      "0 bad epochs dropped\n",
      "Using data from preloaded Raw for 94 events and 513 original time points ...\n",
      "0 bad epochs dropped\n",
      "Using data from preloaded Raw for 41 events and 513 original time points ...\n",
      "0 bad epochs dropped\n"
     ]
    },
    {
     "name": "stderr",
     "output_type": "stream",
     "text": [
      " 20%|█▉        | 36/182 [01:27<08:50,  3.63s/it]"
     ]
    },
    {
     "name": "stdout",
     "output_type": "stream",
     "text": [
      "127 94 41\n",
      "Using data from preloaded Raw for 687 events and 513 original time points ...\n",
      "0 bad epochs dropped\n",
      "Using data from preloaded Raw for 561 events and 513 original time points ...\n",
      "0 bad epochs dropped\n",
      "Using data from preloaded Raw for 41 events and 513 original time points ...\n",
      "0 bad epochs dropped\n"
     ]
    },
    {
     "name": "stderr",
     "output_type": "stream",
     "text": [
      " 20%|██        | 37/182 [01:31<09:23,  3.89s/it]"
     ]
    },
    {
     "name": "stdout",
     "output_type": "stream",
     "text": [
      "687 561 41\n",
      "Using data from preloaded Raw for 767 events and 513 original time points ...\n",
      "0 bad epochs dropped\n",
      "Using data from preloaded Raw for 627 events and 513 original time points ...\n",
      "0 bad epochs dropped\n",
      "Using data from preloaded Raw for 41 events and 513 original time points ...\n",
      "0 bad epochs dropped\n"
     ]
    },
    {
     "name": "stderr",
     "output_type": "stream",
     "text": [
      " 21%|██        | 38/182 [01:33<07:59,  3.33s/it]"
     ]
    },
    {
     "name": "stdout",
     "output_type": "stream",
     "text": [
      "767 627 41\n",
      "Using data from preloaded Raw for 1143 events and 513 original time points ...\n",
      "0 bad epochs dropped\n",
      "Using data from preloaded Raw for 941 events and 513 original time points ...\n",
      "0 bad epochs dropped\n",
      "Using data from preloaded Raw for 41 events and 513 original time points ...\n",
      "0 bad epochs dropped\n"
     ]
    },
    {
     "name": "stderr",
     "output_type": "stream",
     "text": [
      " 21%|██▏       | 39/182 [01:38<09:14,  3.88s/it]"
     ]
    },
    {
     "name": "stdout",
     "output_type": "stream",
     "text": [
      "1143 941 41\n",
      "Using data from preloaded Raw for 1367 events and 513 original time points ...\n",
      "0 bad epochs dropped\n",
      "Using data from preloaded Raw for 1127 events and 513 original time points ...\n",
      "0 bad epochs dropped\n",
      "Using data from preloaded Raw for 41 events and 513 original time points ...\n",
      "0 bad epochs dropped\n"
     ]
    },
    {
     "name": "stderr",
     "output_type": "stream",
     "text": [
      " 22%|██▏       | 40/182 [01:41<07:59,  3.37s/it]"
     ]
    },
    {
     "name": "stdout",
     "output_type": "stream",
     "text": [
      "1367 1127 41\n",
      "Using data from preloaded Raw for 1519 events and 513 original time points ...\n",
      "0 bad epochs dropped\n",
      "Using data from preloaded Raw for 1254 events and 513 original time points ...\n",
      "0 bad epochs dropped\n",
      "Using data from preloaded Raw for 41 events and 513 original time points ...\n",
      "0 bad epochs dropped\n",
      "1519 1254 41\n"
     ]
    },
    {
     "name": "stderr",
     "output_type": "stream",
     "text": [
      " 23%|██▎       | 41/182 [01:43<07:30,  3.20s/it]"
     ]
    },
    {
     "name": "stdout",
     "output_type": "stream",
     "text": [
      "Using data from preloaded Raw for 1071 events and 513 original time points ...\n",
      "0 bad epochs dropped\n",
      "Using data from preloaded Raw for 881 events and 513 original time points ...\n",
      "0 bad epochs dropped\n",
      "Using data from preloaded Raw for 41 events and 513 original time points ...\n",
      "0 bad epochs dropped\n"
     ]
    },
    {
     "name": "stderr",
     "output_type": "stream",
     "text": [
      " 23%|██▎       | 42/182 [01:46<06:51,  2.94s/it]"
     ]
    },
    {
     "name": "stdout",
     "output_type": "stream",
     "text": [
      "1071 881 41\n",
      "Using data from preloaded Raw for 1279 events and 513 original time points ...\n",
      "0 bad epochs dropped\n",
      "Using data from preloaded Raw for 1054 events and 513 original time points ...\n",
      "0 bad epochs dropped\n",
      "Using data from preloaded Raw for 41 events and 513 original time points ...\n",
      "0 bad epochs dropped\n",
      "1279 1054 41\n"
     ]
    },
    {
     "name": "stderr",
     "output_type": "stream",
     "text": [
      " 24%|██▎       | 43/182 [01:48<06:24,  2.77s/it]"
     ]
    },
    {
     "name": "stdout",
     "output_type": "stream",
     "text": [
      "Using data from preloaded Raw for 1388 events and 513 original time points ...\n",
      "0 bad epochs dropped\n",
      "Using data from preloaded Raw for 1747 events and 513 original time points ...\n",
      "0 bad epochs dropped\n",
      "Using data from preloaded Raw for 41 events and 513 original time points ...\n",
      "0 bad epochs dropped\n",
      "1388 1747 41\n"
     ]
    },
    {
     "name": "stderr",
     "output_type": "stream",
     "text": [
      " 24%|██▍       | 44/182 [01:51<06:39,  2.90s/it]"
     ]
    },
    {
     "name": "stdout",
     "output_type": "stream",
     "text": [
      "Using data from preloaded Raw for 511 events and 513 original time points ...\n",
      "0 bad epochs dropped\n",
      "Using data from preloaded Raw for 414 events and 513 original time points ...\n",
      "0 bad epochs dropped\n",
      "Using data from preloaded Raw for 41 events and 513 original time points ...\n",
      "0 bad epochs dropped\n"
     ]
    },
    {
     "name": "stderr",
     "output_type": "stream",
     "text": [
      " 25%|██▍       | 45/182 [01:57<08:32,  3.74s/it]"
     ]
    },
    {
     "name": "stdout",
     "output_type": "stream",
     "text": [
      "511 414 41\n",
      "Using data from preloaded Raw for 631 events and 513 original time points ...\n",
      "0 bad epochs dropped\n",
      "Using data from preloaded Raw for 514 events and 513 original time points ...\n",
      "0 bad epochs dropped\n",
      "Using data from preloaded Raw for 41 events and 513 original time points ...\n",
      "0 bad epochs dropped\n"
     ]
    },
    {
     "name": "stderr",
     "output_type": "stream",
     "text": [
      " 25%|██▌       | 46/182 [02:03<09:44,  4.29s/it]"
     ]
    },
    {
     "name": "stdout",
     "output_type": "stream",
     "text": [
      "631 514 41\n",
      "Using data from preloaded Raw for 567 events and 513 original time points ...\n",
      "0 bad epochs dropped\n",
      "Using data from preloaded Raw for 461 events and 513 original time points ...\n",
      "0 bad epochs dropped\n",
      "Using data from preloaded Raw for 41 events and 513 original time points ...\n",
      "0 bad epochs dropped\n"
     ]
    },
    {
     "name": "stderr",
     "output_type": "stream",
     "text": [
      " 26%|██▌       | 47/182 [02:08<10:36,  4.71s/it]"
     ]
    },
    {
     "name": "stdout",
     "output_type": "stream",
     "text": [
      "567 461 41\n",
      "Using data from preloaded Raw for 495 events and 513 original time points ...\n",
      "0 bad epochs dropped\n",
      "Using data from preloaded Raw for 401 events and 513 original time points ...\n",
      "0 bad epochs dropped\n",
      "Using data from preloaded Raw for 41 events and 513 original time points ...\n",
      "0 bad epochs dropped\n"
     ]
    },
    {
     "name": "stderr",
     "output_type": "stream",
     "text": [
      " 26%|██▋       | 48/182 [02:11<09:02,  4.05s/it]"
     ]
    },
    {
     "name": "stdout",
     "output_type": "stream",
     "text": [
      "495 401 41\n",
      "Using data from preloaded Raw for 279 events and 513 original time points ...\n",
      "0 bad epochs dropped\n",
      "Using data from preloaded Raw for 221 events and 513 original time points ...\n",
      "0 bad epochs dropped\n",
      "Using data from preloaded Raw for 41 events and 513 original time points ...\n",
      "0 bad epochs dropped\n"
     ]
    },
    {
     "name": "stderr",
     "output_type": "stream",
     "text": [
      " 27%|██▋       | 49/182 [02:13<08:05,  3.65s/it]"
     ]
    },
    {
     "name": "stdout",
     "output_type": "stream",
     "text": [
      "279 221 41\n",
      "Using data from preloaded Raw for 559 events and 513 original time points ...\n",
      "0 bad epochs dropped\n",
      "Using data from preloaded Raw for 454 events and 513 original time points ...\n",
      "0 bad epochs dropped\n",
      "Using data from preloaded Raw for 41 events and 513 original time points ...\n",
      "0 bad epochs dropped\n"
     ]
    },
    {
     "name": "stderr",
     "output_type": "stream",
     "text": [
      " 27%|██▋       | 50/182 [02:16<07:27,  3.39s/it]"
     ]
    },
    {
     "name": "stdout",
     "output_type": "stream",
     "text": [
      "559 454 41\n",
      "Using data from preloaded Raw for 519 events and 513 original time points ...\n",
      "0 bad epochs dropped\n",
      "Using data from preloaded Raw for 421 events and 513 original time points ...\n",
      "0 bad epochs dropped\n",
      "Using data from preloaded Raw for 41 events and 513 original time points ...\n",
      "0 bad epochs dropped\n",
      "519 421 41\n"
     ]
    },
    {
     "name": "stderr",
     "output_type": "stream",
     "text": [
      " 28%|██▊       | 51/182 [02:19<07:02,  3.22s/it]"
     ]
    },
    {
     "name": "stdout",
     "output_type": "stream",
     "text": [
      "Using data from preloaded Raw for 463 events and 513 original time points ...\n",
      "0 bad epochs dropped\n",
      "Using data from preloaded Raw for 374 events and 513 original time points ...\n",
      "0 bad epochs dropped\n",
      "Using data from preloaded Raw for 41 events and 513 original time points ...\n",
      "0 bad epochs dropped\n",
      "463 374 41\n"
     ]
    },
    {
     "name": "stderr",
     "output_type": "stream",
     "text": [
      " 29%|██▊       | 52/182 [02:22<06:41,  3.09s/it]"
     ]
    },
    {
     "name": "stdout",
     "output_type": "stream",
     "text": [
      "Using data from preloaded Raw for 607 events and 513 original time points ...\n",
      "0 bad epochs dropped\n",
      "Using data from preloaded Raw for 494 events and 513 original time points ...\n",
      "0 bad epochs dropped\n",
      "Using data from preloaded Raw for 41 events and 513 original time points ...\n",
      "0 bad epochs dropped\n"
     ]
    },
    {
     "name": "stderr",
     "output_type": "stream",
     "text": [
      " 29%|██▉       | 53/182 [02:25<06:27,  3.00s/it]"
     ]
    },
    {
     "name": "stdout",
     "output_type": "stream",
     "text": [
      "607 494 41\n",
      "Using data from preloaded Raw for 711 events and 513 original time points ...\n",
      "0 bad epochs dropped\n",
      "Using data from preloaded Raw for 581 events and 513 original time points ...\n",
      "0 bad epochs dropped\n",
      "Using data from preloaded Raw for 41 events and 513 original time points ...\n",
      "0 bad epochs dropped\n"
     ]
    },
    {
     "name": "stderr",
     "output_type": "stream",
     "text": [
      " 30%|██▉       | 54/182 [02:28<06:20,  2.97s/it]"
     ]
    },
    {
     "name": "stdout",
     "output_type": "stream",
     "text": [
      "711 581 41\n",
      "Using data from preloaded Raw for 431 events and 513 original time points ...\n",
      "0 bad epochs dropped\n",
      "Using data from preloaded Raw for 347 events and 513 original time points ...\n",
      "0 bad epochs dropped\n",
      "Using data from preloaded Raw for 41 events and 513 original time points ...\n",
      "0 bad epochs dropped\n",
      "431 347 41\n"
     ]
    },
    {
     "name": "stderr",
     "output_type": "stream",
     "text": [
      " 30%|███       | 55/182 [02:30<06:04,  2.87s/it]"
     ]
    },
    {
     "name": "stdout",
     "output_type": "stream",
     "text": [
      "Using data from preloaded Raw for 175 events and 513 original time points ...\n",
      "0 bad epochs dropped\n",
      "Using data from preloaded Raw for 134 events and 513 original time points ...\n",
      "0 bad epochs dropped\n",
      "Using data from preloaded Raw for 41 events and 513 original time points ...\n",
      "0 bad epochs dropped\n"
     ]
    },
    {
     "name": "stderr",
     "output_type": "stream",
     "text": [
      " 31%|███       | 56/182 [02:32<05:04,  2.42s/it]"
     ]
    },
    {
     "name": "stdout",
     "output_type": "stream",
     "text": [
      "175 134 41\n",
      "Using data from preloaded Raw for 255 events and 513 original time points ...\n",
      "0 bad epochs dropped\n",
      "Using data from preloaded Raw for 201 events and 513 original time points ...\n",
      "0 bad epochs dropped\n",
      "Using data from preloaded Raw for 41 events and 513 original time points ...\n",
      "0 bad epochs dropped\n"
     ]
    },
    {
     "name": "stderr",
     "output_type": "stream",
     "text": [
      " 31%|███▏      | 57/182 [02:33<04:24,  2.11s/it]"
     ]
    },
    {
     "name": "stdout",
     "output_type": "stream",
     "text": [
      "255 201 41\n",
      "Using data from preloaded Raw for 969 events and 513 original time points ...\n",
      "0 bad epochs dropped\n",
      "Using data from preloaded Raw for 5001 events and 513 original time points ...\n",
      "0 bad epochs dropped\n",
      "Using data from preloaded Raw for 41 events and 513 original time points ...\n",
      "0 bad epochs dropped\n",
      "969 5001 41\n"
     ]
    },
    {
     "name": "stderr",
     "output_type": "stream",
     "text": [
      " 32%|███▏      | 58/182 [02:37<05:48,  2.81s/it]"
     ]
    },
    {
     "name": "stdout",
     "output_type": "stream",
     "text": [
      "Using data from preloaded Raw for 111 events and 513 original time points ...\n",
      "0 bad epochs dropped\n",
      "Using data from preloaded Raw for 81 events and 513 original time points ...\n",
      "0 bad epochs dropped\n",
      "Using data from preloaded Raw for 41 events and 513 original time points ...\n",
      "0 bad epochs dropped\n",
      "111 81 41\n"
     ]
    },
    {
     "name": "stderr",
     "output_type": "stream",
     "text": [
      " 61%|██████    | 111/182 [02:39<00:10,  6.99it/s]"
     ]
    },
    {
     "name": "stdout",
     "output_type": "stream",
     "text": [
      "Using data from preloaded Raw for 159 events and 513 original time points ...\n",
      "0 bad epochs dropped\n",
      "Using data from preloaded Raw for 121 events and 513 original time points ...\n",
      "0 bad epochs dropped\n",
      "Using data from preloaded Raw for 41 events and 513 original time points ...\n",
      "0 bad epochs dropped\n",
      "159 121 41\n",
      "Using data from preloaded Raw for 175 events and 513 original time points ...\n",
      "0 bad epochs dropped\n",
      "Using data from preloaded Raw for 134 events and 513 original time points ...\n",
      "0 bad epochs dropped\n",
      "Using data from preloaded Raw for 41 events and 513 original time points ...\n",
      "0 bad epochs dropped\n",
      "175 134 41\n"
     ]
    },
    {
     "name": "stderr",
     "output_type": "stream",
     "text": [
      " 62%|██████▏   | 113/182 [02:41<00:14,  4.92it/s]"
     ]
    },
    {
     "name": "stdout",
     "output_type": "stream",
     "text": [
      "Using data from preloaded Raw for 111 events and 513 original time points ...\n",
      "0 bad epochs dropped\n",
      "Using data from preloaded Raw for 81 events and 513 original time points ...\n",
      "0 bad epochs dropped\n",
      "Using data from preloaded Raw for 41 events and 513 original time points ...\n",
      "0 bad epochs dropped\n"
     ]
    },
    {
     "name": "stderr",
     "output_type": "stream",
     "text": [
      " 63%|██████▎   | 114/182 [02:43<00:16,  4.19it/s]"
     ]
    },
    {
     "name": "stdout",
     "output_type": "stream",
     "text": [
      "111 81 41\n",
      "Using data from preloaded Raw for 327 events and 513 original time points ...\n",
      "0 bad epochs dropped\n",
      "Using data from preloaded Raw for 261 events and 513 original time points ...\n",
      "0 bad epochs dropped\n",
      "Using data from preloaded Raw for 41 events and 513 original time points ...\n",
      "0 bad epochs dropped\n"
     ]
    },
    {
     "name": "stderr",
     "output_type": "stream",
     "text": [
      " 63%|██████▎   | 115/182 [02:44<00:19,  3.39it/s]"
     ]
    },
    {
     "name": "stdout",
     "output_type": "stream",
     "text": [
      "327 261 41\n",
      "Using data from preloaded Raw for 159 events and 513 original time points ...\n",
      "0 bad epochs dropped\n",
      "Using data from preloaded Raw for 121 events and 513 original time points ...\n",
      "0 bad epochs dropped\n",
      "Using data from preloaded Raw for 41 events and 513 original time points ...\n",
      "0 bad epochs dropped\n"
     ]
    },
    {
     "name": "stderr",
     "output_type": "stream",
     "text": [
      " 64%|██████▎   | 116/182 [02:45<00:23,  2.80it/s]"
     ]
    },
    {
     "name": "stdout",
     "output_type": "stream",
     "text": [
      "159 121 41\n",
      "Using data from preloaded Raw for 175 events and 513 original time points ...\n",
      "0 bad epochs dropped\n",
      "Using data from preloaded Raw for 134 events and 513 original time points ...\n",
      "0 bad epochs dropped\n",
      "Using data from preloaded Raw for 41 events and 513 original time points ...\n",
      "0 bad epochs dropped\n"
     ]
    },
    {
     "name": "stderr",
     "output_type": "stream",
     "text": [
      " 64%|██████▍   | 117/182 [02:47<00:28,  2.29it/s]"
     ]
    },
    {
     "name": "stdout",
     "output_type": "stream",
     "text": [
      "175 134 41\n",
      "Using data from preloaded Raw for 127 events and 513 original time points ...\n",
      "0 bad epochs dropped\n",
      "Using data from preloaded Raw for 94 events and 513 original time points ...\n",
      "0 bad epochs dropped\n",
      "Using data from preloaded Raw for 41 events and 513 original time points ...\n",
      "0 bad epochs dropped\n"
     ]
    },
    {
     "name": "stderr",
     "output_type": "stream",
     "text": [
      " 65%|██████▍   | 118/182 [02:48<00:33,  1.91it/s]"
     ]
    },
    {
     "name": "stdout",
     "output_type": "stream",
     "text": [
      "127 94 41\n",
      "Using data from preloaded Raw for 719 events and 513 original time points ...\n",
      "0 bad epochs dropped\n",
      "Using data from preloaded Raw for 587 events and 513 original time points ...\n",
      "0 bad epochs dropped\n",
      "Using data from preloaded Raw for 41 events and 513 original time points ...\n",
      "0 bad epochs dropped\n"
     ]
    },
    {
     "name": "stderr",
     "output_type": "stream",
     "text": [
      " 82%|████████▏ | 149/182 [02:50<00:04,  6.82it/s]"
     ]
    },
    {
     "name": "stdout",
     "output_type": "stream",
     "text": [
      "719 587 41\n",
      "Using data from preloaded Raw for 919 events and 513 original time points ...\n",
      "0 bad epochs dropped\n",
      "Using data from preloaded Raw for 754 events and 513 original time points ...\n",
      "0 bad epochs dropped\n",
      "Using data from preloaded Raw for 41 events and 513 original time points ...\n",
      "0 bad epochs dropped\n"
     ]
    },
    {
     "name": "stderr",
     "output_type": "stream",
     "text": [
      " 82%|████████▏ | 150/182 [02:52<00:06,  4.64it/s]"
     ]
    },
    {
     "name": "stdout",
     "output_type": "stream",
     "text": [
      "919 754 41\n",
      "Using data from preloaded Raw for 703 events and 513 original time points ...\n",
      "0 bad epochs dropped\n",
      "Using data from preloaded Raw for 574 events and 513 original time points ...\n",
      "0 bad epochs dropped\n",
      "Using data from preloaded Raw for 41 events and 513 original time points ...\n",
      "0 bad epochs dropped\n"
     ]
    },
    {
     "name": "stderr",
     "output_type": "stream",
     "text": [
      " 83%|████████▎ | 151/182 [02:54<00:09,  3.38it/s]"
     ]
    },
    {
     "name": "stdout",
     "output_type": "stream",
     "text": [
      "703 574 41\n",
      "Using data from preloaded Raw for 399 events and 513 original time points ...\n",
      "0 bad epochs dropped\n",
      "Using data from preloaded Raw for 321 events and 513 original time points ...\n",
      "0 bad epochs dropped\n",
      "Using data from preloaded Raw for 41 events and 513 original time points ...\n",
      "0 bad epochs dropped\n",
      "399 321 41\n"
     ]
    },
    {
     "name": "stderr",
     "output_type": "stream",
     "text": [
      " 84%|████████▎ | 152/182 [02:55<00:11,  2.66it/s]"
     ]
    },
    {
     "name": "stdout",
     "output_type": "stream",
     "text": [
      "Using data from preloaded Raw for 239 events and 513 original time points ...\n",
      "0 bad epochs dropped\n",
      "Using data from preloaded Raw for 187 events and 513 original time points ...\n",
      "0 bad epochs dropped\n",
      "Using data from preloaded Raw for 41 events and 513 original time points ...\n",
      "0 bad epochs dropped\n"
     ]
    },
    {
     "name": "stderr",
     "output_type": "stream",
     "text": [
      " 84%|████████▍ | 153/182 [02:57<00:13,  2.16it/s]"
     ]
    },
    {
     "name": "stdout",
     "output_type": "stream",
     "text": [
      "239 187 41\n",
      "Using data from preloaded Raw for 543 events and 513 original time points ...\n",
      "0 bad epochs dropped\n",
      "Using data from preloaded Raw for 441 events and 513 original time points ...\n",
      "0 bad epochs dropped\n",
      "Using data from preloaded Raw for 41 events and 513 original time points ...\n",
      "0 bad epochs dropped\n",
      "543 441 41\n"
     ]
    },
    {
     "name": "stderr",
     "output_type": "stream",
     "text": [
      " 85%|████████▍ | 154/182 [02:58<00:15,  1.81it/s]"
     ]
    },
    {
     "name": "stdout",
     "output_type": "stream",
     "text": [
      "Using data from preloaded Raw for 439 events and 513 original time points ...\n",
      "0 bad epochs dropped\n",
      "Using data from preloaded Raw for 354 events and 513 original time points ...\n",
      "0 bad epochs dropped\n",
      "Using data from preloaded Raw for 41 events and 513 original time points ...\n",
      "0 bad epochs dropped\n",
      "439 354 41\n"
     ]
    },
    {
     "name": "stderr",
     "output_type": "stream",
     "text": [
      " 85%|████████▌ | 155/182 [03:00<00:18,  1.44it/s]"
     ]
    },
    {
     "name": "stdout",
     "output_type": "stream",
     "text": [
      "Using data from preloaded Raw for 543 events and 513 original time points ...\n",
      "0 bad epochs dropped\n",
      "Using data from preloaded Raw for 441 events and 513 original time points ...\n",
      "0 bad epochs dropped\n",
      "Using data from preloaded Raw for 41 events and 513 original time points ...\n",
      "0 bad epochs dropped\n",
      "543 441 41\n"
     ]
    },
    {
     "name": "stderr",
     "output_type": "stream",
     "text": [
      " 86%|████████▌ | 156/182 [03:01<00:22,  1.17it/s]"
     ]
    },
    {
     "name": "stdout",
     "output_type": "stream",
     "text": [
      "Using data from preloaded Raw for 308 events and 513 original time points ...\n",
      "0 bad epochs dropped\n",
      "Using data from preloaded Raw for 294 events and 513 original time points ...\n",
      "0 bad epochs dropped\n",
      "Using data from preloaded Raw for 41 events and 513 original time points ...\n",
      "0 bad epochs dropped\n"
     ]
    },
    {
     "name": "stderr",
     "output_type": "stream",
     "text": [
      " 86%|████████▋ | 157/182 [03:03<00:24,  1.03it/s]"
     ]
    },
    {
     "name": "stdout",
     "output_type": "stream",
     "text": [
      "308 294 41\n",
      "Using data from preloaded Raw for 199 events and 513 original time points ...\n",
      "0 bad epochs dropped\n",
      "Using data from preloaded Raw for 507 events and 513 original time points ...\n",
      "0 bad epochs dropped\n",
      "Using data from preloaded Raw for 41 events and 513 original time points ...\n",
      "0 bad epochs dropped\n"
     ]
    },
    {
     "name": "stderr",
     "output_type": "stream",
     "text": [
      " 87%|████████▋ | 158/182 [03:05<00:26,  1.11s/it]"
     ]
    },
    {
     "name": "stdout",
     "output_type": "stream",
     "text": [
      "199 507 41\n",
      "Using data from preloaded Raw for 615 events and 513 original time points ...\n",
      "0 bad epochs dropped\n",
      "Using data from preloaded Raw for 501 events and 513 original time points ...\n",
      "0 bad epochs dropped\n",
      "Using data from preloaded Raw for 41 events and 513 original time points ...\n",
      "0 bad epochs dropped\n"
     ]
    },
    {
     "name": "stderr",
     "output_type": "stream",
     "text": [
      " 87%|████████▋ | 159/182 [03:06<00:29,  1.28s/it]"
     ]
    },
    {
     "name": "stdout",
     "output_type": "stream",
     "text": [
      "615 501 41\n",
      "Using data from preloaded Raw for 647 events and 513 original time points ...\n",
      "0 bad epochs dropped\n",
      "Using data from preloaded Raw for 527 events and 513 original time points ...\n",
      "0 bad epochs dropped\n",
      "Using data from preloaded Raw for 41 events and 513 original time points ...\n",
      "0 bad epochs dropped\n"
     ]
    },
    {
     "name": "stderr",
     "output_type": "stream",
     "text": [
      " 88%|████████▊ | 160/182 [03:08<00:30,  1.38s/it]"
     ]
    },
    {
     "name": "stdout",
     "output_type": "stream",
     "text": [
      "647 527 41\n",
      "Using data from preloaded Raw for 62 events and 513 original time points ...\n",
      "0 bad epochs dropped\n",
      "Using data from preloaded Raw for 181 events and 513 original time points ...\n",
      "0 bad epochs dropped\n",
      "Using data from preloaded Raw for 41 events and 513 original time points ...\n",
      "0 bad epochs dropped\n"
     ]
    },
    {
     "name": "stderr",
     "output_type": "stream",
     "text": [
      " 88%|████████▊ | 161/182 [03:09<00:28,  1.36s/it]"
     ]
    },
    {
     "name": "stdout",
     "output_type": "stream",
     "text": [
      "62 181 41\n",
      "Using data from preloaded Raw for 239 events and 513 original time points ...\n",
      "0 bad epochs dropped\n",
      "Using data from preloaded Raw for 187 events and 513 original time points ...\n",
      "0 bad epochs dropped\n",
      "Using data from preloaded Raw for 41 events and 513 original time points ...\n",
      "0 bad epochs dropped\n"
     ]
    },
    {
     "name": "stderr",
     "output_type": "stream",
     "text": [
      " 89%|████████▉ | 162/182 [03:11<00:27,  1.36s/it]"
     ]
    },
    {
     "name": "stdout",
     "output_type": "stream",
     "text": [
      "239 187 41\n",
      "Using data from preloaded Raw for 311 events and 513 original time points ...\n",
      "0 bad epochs dropped\n",
      "Using data from preloaded Raw for 247 events and 513 original time points ...\n",
      "0 bad epochs dropped\n",
      "Using data from preloaded Raw for 41 events and 513 original time points ...\n",
      "0 bad epochs dropped\n"
     ]
    },
    {
     "name": "stderr",
     "output_type": "stream",
     "text": [
      " 90%|████████▉ | 163/182 [03:12<00:26,  1.37s/it]"
     ]
    },
    {
     "name": "stdout",
     "output_type": "stream",
     "text": [
      "311 247 41\n",
      "Using data from preloaded Raw for 303 events and 513 original time points ...\n",
      "0 bad epochs dropped\n",
      "Using data from preloaded Raw for 241 events and 513 original time points ...\n",
      "0 bad epochs dropped\n",
      "Using data from preloaded Raw for 41 events and 513 original time points ...\n",
      "0 bad epochs dropped\n"
     ]
    },
    {
     "name": "stderr",
     "output_type": "stream",
     "text": [
      " 90%|█████████ | 164/182 [03:14<00:25,  1.39s/it]"
     ]
    },
    {
     "name": "stdout",
     "output_type": "stream",
     "text": [
      "303 241 41\n",
      "Using data from preloaded Raw for 259 events and 513 original time points ...\n",
      "0 bad epochs dropped\n",
      "Using data from preloaded Raw for 221 events and 513 original time points ...\n",
      "0 bad epochs dropped\n",
      "Using data from preloaded Raw for 41 events and 513 original time points ...\n",
      "0 bad epochs dropped\n"
     ]
    },
    {
     "name": "stderr",
     "output_type": "stream",
     "text": [
      " 91%|█████████ | 165/182 [03:15<00:23,  1.39s/it]"
     ]
    },
    {
     "name": "stdout",
     "output_type": "stream",
     "text": [
      "259 221 41\n",
      "Using data from preloaded Raw for 391 events and 513 original time points ...\n",
      "0 bad epochs dropped\n",
      "Using data from preloaded Raw for 314 events and 513 original time points ...\n",
      "0 bad epochs dropped\n",
      "Using data from preloaded Raw for 41 events and 513 original time points ...\n",
      "0 bad epochs dropped\n",
      "391 314 41\n"
     ]
    },
    {
     "name": "stderr",
     "output_type": "stream",
     "text": [
      " 91%|█████████ | 166/182 [03:16<00:22,  1.42s/it]"
     ]
    },
    {
     "name": "stdout",
     "output_type": "stream",
     "text": [
      "Using data from preloaded Raw for 279 events and 513 original time points ...\n",
      "0 bad epochs dropped\n",
      "Using data from preloaded Raw for 221 events and 513 original time points ...\n",
      "0 bad epochs dropped\n",
      "Using data from preloaded Raw for 41 events and 513 original time points ...\n",
      "0 bad epochs dropped\n"
     ]
    },
    {
     "name": "stderr",
     "output_type": "stream",
     "text": [
      " 92%|█████████▏| 167/182 [03:18<00:20,  1.40s/it]"
     ]
    },
    {
     "name": "stdout",
     "output_type": "stream",
     "text": [
      "279 221 41\n",
      "Using data from preloaded Raw for 311 events and 513 original time points ...\n",
      "0 bad epochs dropped\n",
      "Using data from preloaded Raw for 247 events and 513 original time points ...\n",
      "0 bad epochs dropped\n",
      "Using data from preloaded Raw for 41 events and 513 original time points ...\n",
      "0 bad epochs dropped\n"
     ]
    },
    {
     "name": "stderr",
     "output_type": "stream",
     "text": [
      " 92%|█████████▏| 168/182 [03:19<00:17,  1.28s/it]"
     ]
    },
    {
     "name": "stdout",
     "output_type": "stream",
     "text": [
      "311 247 41\n",
      "Using data from preloaded Raw for 447 events and 513 original time points ...\n",
      "0 bad epochs dropped\n",
      "Using data from preloaded Raw for 361 events and 513 original time points ...\n",
      "0 bad epochs dropped\n",
      "Using data from preloaded Raw for 41 events and 513 original time points ...\n",
      "0 bad epochs dropped\n",
      "447 361 41\n"
     ]
    },
    {
     "name": "stderr",
     "output_type": "stream",
     "text": [
      " 93%|█████████▎| 169/182 [03:21<00:18,  1.42s/it]"
     ]
    },
    {
     "name": "stdout",
     "output_type": "stream",
     "text": [
      "Using data from preloaded Raw for 399 events and 513 original time points ...\n",
      "0 bad epochs dropped\n",
      "Using data from preloaded Raw for 321 events and 513 original time points ...\n",
      "0 bad epochs dropped\n",
      "Using data from preloaded Raw for 41 events and 513 original time points ...\n",
      "0 bad epochs dropped\n",
      "399 321 41\n"
     ]
    },
    {
     "name": "stderr",
     "output_type": "stream",
     "text": [
      " 93%|█████████▎| 170/182 [03:22<00:16,  1.40s/it]"
     ]
    },
    {
     "name": "stdout",
     "output_type": "stream",
     "text": [
      "Using data from preloaded Raw for 647 events and 513 original time points ...\n",
      "0 bad epochs dropped\n",
      "Using data from preloaded Raw for 527 events and 513 original time points ...\n",
      "0 bad epochs dropped\n",
      "Using data from preloaded Raw for 41 events and 513 original time points ...\n",
      "0 bad epochs dropped\n"
     ]
    },
    {
     "name": "stderr",
     "output_type": "stream",
     "text": [
      " 94%|█████████▍| 171/182 [03:24<00:16,  1.52s/it]"
     ]
    },
    {
     "name": "stdout",
     "output_type": "stream",
     "text": [
      "647 527 41\n",
      "Using data from preloaded Raw for 95 events and 513 original time points ...\n",
      "0 bad epochs dropped\n",
      "Using data from preloaded Raw for 67 events and 513 original time points ...\n",
      "0 bad epochs dropped\n",
      "Using data from preloaded Raw for 41 events and 513 original time points ...\n",
      "0 bad epochs dropped\n"
     ]
    },
    {
     "name": "stderr",
     "output_type": "stream",
     "text": [
      " 95%|█████████▍| 172/182 [03:25<00:14,  1.46s/it]"
     ]
    },
    {
     "name": "stdout",
     "output_type": "stream",
     "text": [
      "95 67 41\n",
      "Using data from preloaded Raw for 463 events and 513 original time points ...\n",
      "0 bad epochs dropped\n",
      "Using data from preloaded Raw for 374 events and 513 original time points ...\n",
      "0 bad epochs dropped\n",
      "Using data from preloaded Raw for 41 events and 513 original time points ...\n",
      "0 bad epochs dropped\n",
      "463 374 41\n"
     ]
    },
    {
     "name": "stderr",
     "output_type": "stream",
     "text": [
      " 95%|█████████▌| 173/182 [03:27<00:13,  1.51s/it]"
     ]
    },
    {
     "name": "stdout",
     "output_type": "stream",
     "text": [
      "Using data from preloaded Raw for 591 events and 513 original time points ...\n",
      "0 bad epochs dropped\n",
      "Using data from preloaded Raw for 481 events and 513 original time points ...\n",
      "0 bad epochs dropped\n",
      "Using data from preloaded Raw for 41 events and 513 original time points ...\n",
      "0 bad epochs dropped\n"
     ]
    },
    {
     "name": "stderr",
     "output_type": "stream",
     "text": [
      " 96%|█████████▌| 174/182 [03:28<00:12,  1.58s/it]"
     ]
    },
    {
     "name": "stdout",
     "output_type": "stream",
     "text": [
      "591 481 41\n",
      "Using data from preloaded Raw for 575 events and 513 original time points ...\n",
      "0 bad epochs dropped\n",
      "Using data from preloaded Raw for 467 events and 513 original time points ...\n",
      "0 bad epochs dropped\n",
      "Using data from preloaded Raw for 41 events and 513 original time points ...\n",
      "0 bad epochs dropped\n"
     ]
    },
    {
     "name": "stderr",
     "output_type": "stream",
     "text": [
      " 96%|█████████▌| 175/182 [03:30<00:11,  1.62s/it]"
     ]
    },
    {
     "name": "stdout",
     "output_type": "stream",
     "text": [
      "575 467 41\n",
      "Using data from preloaded Raw for 903 events and 513 original time points ...\n",
      "0 bad epochs dropped\n",
      "Using data from preloaded Raw for 741 events and 513 original time points ...\n",
      "0 bad epochs dropped\n",
      "Using data from preloaded Raw for 41 events and 513 original time points ...\n",
      "0 bad epochs dropped\n"
     ]
    },
    {
     "name": "stderr",
     "output_type": "stream",
     "text": [
      " 97%|█████████▋| 176/182 [03:33<00:12,  2.14s/it]"
     ]
    },
    {
     "name": "stdout",
     "output_type": "stream",
     "text": [
      "903 741 41\n",
      "Using data from preloaded Raw for 159 events and 513 original time points ...\n",
      "0 bad epochs dropped\n",
      "Using data from preloaded Raw for 121 events and 513 original time points ...\n",
      "0 bad epochs dropped\n",
      "Using data from preloaded Raw for 41 events and 513 original time points ...\n",
      "0 bad epochs dropped\n",
      "159 121 41\n"
     ]
    },
    {
     "name": "stderr",
     "output_type": "stream",
     "text": [
      " 97%|█████████▋| 177/182 [03:37<00:12,  2.58s/it]"
     ]
    },
    {
     "name": "stdout",
     "output_type": "stream",
     "text": [
      "Using data from preloaded Raw for 375 events and 513 original time points ...\n",
      "0 bad epochs dropped\n",
      "Using data from preloaded Raw for 301 events and 513 original time points ...\n",
      "0 bad epochs dropped\n",
      "Using data from preloaded Raw for 41 events and 513 original time points ...\n",
      "0 bad epochs dropped\n"
     ]
    },
    {
     "name": "stderr",
     "output_type": "stream",
     "text": [
      " 98%|█████████▊| 178/182 [03:41<00:11,  2.84s/it]"
     ]
    },
    {
     "name": "stdout",
     "output_type": "stream",
     "text": [
      "375 301 41\n",
      "Using data from preloaded Raw for 567 events and 513 original time points ...\n",
      "0 bad epochs dropped\n",
      "Using data from preloaded Raw for 461 events and 513 original time points ...\n",
      "0 bad epochs dropped\n",
      "Using data from preloaded Raw for 41 events and 513 original time points ...\n",
      "0 bad epochs dropped\n"
     ]
    },
    {
     "name": "stderr",
     "output_type": "stream",
     "text": [
      " 98%|█████████▊| 179/182 [03:45<00:10,  3.47s/it]"
     ]
    },
    {
     "name": "stdout",
     "output_type": "stream",
     "text": [
      "567 461 41\n",
      "Using data from preloaded Raw for 495 events and 513 original time points ...\n",
      "0 bad epochs dropped\n",
      "Using data from preloaded Raw for 401 events and 513 original time points ...\n",
      "0 bad epochs dropped\n",
      "Using data from preloaded Raw for 41 events and 513 original time points ...\n",
      "0 bad epochs dropped\n",
      "495 401 41\n"
     ]
    },
    {
     "name": "stderr",
     "output_type": "stream",
     "text": [
      " 99%|█████████▉| 180/182 [03:50<00:07,  3.88s/it]"
     ]
    },
    {
     "name": "stdout",
     "output_type": "stream",
     "text": [
      "Using data from preloaded Raw for 215 events and 513 original time points ...\n",
      "0 bad epochs dropped\n",
      "Using data from preloaded Raw for 167 events and 513 original time points ...\n",
      "0 bad epochs dropped\n",
      "Using data from preloaded Raw for 41 events and 513 original time points ...\n",
      "0 bad epochs dropped\n"
     ]
    },
    {
     "name": "stderr",
     "output_type": "stream",
     "text": [
      " 99%|█████████▉| 181/182 [03:55<00:04,  4.11s/it]"
     ]
    },
    {
     "name": "stdout",
     "output_type": "stream",
     "text": [
      "215 167 41\n",
      "Using data from preloaded Raw for 671 events and 513 original time points ...\n",
      "0 bad epochs dropped\n",
      "Using data from preloaded Raw for 547 events and 513 original time points ...\n",
      "0 bad epochs dropped\n",
      "Using data from preloaded Raw for 41 events and 513 original time points ...\n",
      "0 bad epochs dropped\n"
     ]
    },
    {
     "name": "stderr",
     "output_type": "stream",
     "text": [
      "100%|██████████| 182/182 [04:00<00:00,  1.32s/it]"
     ]
    },
    {
     "name": "stdout",
     "output_type": "stream",
     "text": [
      "671 547 41\n"
     ]
    },
    {
     "name": "stderr",
     "output_type": "stream",
     "text": [
      "\n"
     ]
    }
   ],
   "execution_count": 36
  },
  {
   "metadata": {},
   "cell_type": "markdown",
   "source": "interictal",
   "id": "42e35fdeff5bae42"
  },
  {
   "metadata": {
    "ExecuteTime": {
     "end_time": "2024-05-22T05:50:01.187471Z",
     "start_time": "2024-05-22T05:50:01.171485Z"
    }
   },
   "cell_type": "code",
   "source": [
    "def get_specific_interictal_file(patient_name):\n",
    "    prefix=patient_name\n",
    "    edf_files = [\n",
    "        \"chb01_05.edf\",\n",
    "        \"chb02_01.edf\",\n",
    "        \"chb03_07.edf\",\n",
    "        \"chb04_09.edf\",\n",
    "        \"chb05_03.edf\",\n",
    "        \"chb06_14.edf\",\n",
    "        \"chb07_03.edf\",\n",
    "        \"chb08_16.edf\",\n",
    "        \"chb09_03.edf\",\n",
    "        \"chb10_03.edf\",\n",
    "        \"chb11_03.edf\",\n",
    "        \"chb14_12.edf\",\n",
    "        \"chb17a_05.edf\",\n",
    "        \"chb18_20.edf\",\n",
    "        \"chb19_09.edf\",\n",
    "        \"chb20_04.edf\",\n",
    "        \"chb21_06.edf\",\n",
    "        \"chb22_05.edf\",\n",
    "        \"chb23_19.edf\"\n",
    "    ]\n",
    "    edf_files=pd.Series(edf_files)\n",
    "    return edf_files[edf_files.str.startswith(prefix)].iloc[0]\n",
    "\n"
   ],
   "id": "5961e51ce08975e7",
   "outputs": [],
   "execution_count": 11
  },
  {
   "metadata": {
    "ExecuteTime": {
     "end_time": "2024-05-22T05:50:43.657799Z",
     "start_time": "2024-05-22T05:50:17.761178Z"
    }
   },
   "cell_type": "code",
   "source": [
    "for patient_id in range(1,24):\n",
    "\n",
    "    patient_name='chb'+str(patient_id).zfill(2)\n",
    "    try:\n",
    "        file_name=get_specific_interictal_file(patient_name)\n",
    "    except:\n",
    "        continue\n",
    "    file_path=os.path.join(chb_root_path,\"{}/{}\".format(patient_name,file_name))\n",
    "    raw_T=ut.PreprocessTool(file_path)\n",
    "    data_stft=raw_T.do_preprocess(truncate_time=3599).no_overlap_events(start=0,stop=3599).cut_epochs().get_epochs_stft()\n",
    "    save_interictal_data(interictal_data=data_stft,patient_name=patient_name)\n",
    "\n"
   ],
   "id": "5b2bb19c3f7b83ad",
   "outputs": [
    {
     "name": "stdout",
     "output_type": "stream",
     "text": [
      "Using data from preloaded Raw for 719 events and 1281 original time points ...\n",
      "0 bad epochs dropped\n",
      "Using data from preloaded Raw for 719 events and 1281 original time points ...\n",
      "0 bad epochs dropped\n",
      "Using data from preloaded Raw for 719 events and 1281 original time points ...\n",
      "0 bad epochs dropped\n",
      "Using data from preloaded Raw for 719 events and 1281 original time points ...\n",
      "0 bad epochs dropped\n",
      "Using data from preloaded Raw for 719 events and 1281 original time points ...\n",
      "0 bad epochs dropped\n"
     ]
    }
   ],
   "execution_count": 13
  },
  {
   "metadata": {},
   "cell_type": "code",
   "outputs": [],
   "execution_count": null,
   "source": "",
   "id": "8ea5cf00da7d361"
  }
 ],
 "metadata": {
  "kernelspec": {
   "display_name": "Python 3 (ipykernel)",
   "language": "python",
   "name": "python3"
  },
  "language_info": {
   "codemirror_mode": {
    "name": "ipython",
    "version": 3
   },
   "file_extension": ".py",
   "mimetype": "text/x-python",
   "name": "python",
   "nbconvert_exporter": "python",
   "pygments_lexer": "ipython3",
   "version": "3.10.0"
  }
 },
 "nbformat": 4,
 "nbformat_minor": 5
}
