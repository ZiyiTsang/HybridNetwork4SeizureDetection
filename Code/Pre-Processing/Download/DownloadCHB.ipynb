{
 "cells": [
  {
   "cell_type": "code",
   "id": "initial_id",
   "metadata": {
    "collapsed": true,
    "ExecuteTime": {
     "end_time": "2024-03-30T16:16:58.825544Z",
     "start_time": "2024-03-30T15:27:19.349366Z"
    }
   },
   "source": [
    "from tqdm import tqdm\n",
    "import requests\n",
    "import os\n",
    "from bs4 import BeautifulSoup\n",
    "for i in range(1, 15):\n",
    "    chb_num = f\"chb{i:02d}\"\n",
    "    url = \"https://archive.physionet.org/pn6/chbmit/%s/\" % chb_num\n",
    "    download_directory = \"E:\\Research\\Dataset\\CHB-MIT\\%s\" % chb_num\n",
    "    # 创建下载目录\n",
    "    if not os.path.exists(download_directory):\n",
    "        print(f\"创建下载目录: {download_directory}\")\n",
    "        os.makedirs(download_directory)\n",
    "    \n",
    "    # 发送HTTP请求获取目录列表\n",
    "    response = requests.get(url)\n",
    "    if response.status_code == 200:\n",
    "        # 解析HTML以获取文件链接\n",
    "        \n",
    "        soup = BeautifulSoup(response.content, \"html.parser\")\n",
    "        links = soup.find_all(\"a\")\n",
    "        file_urls = []\n",
    "        file_paths = []\n",
    "        # 遍历链接，找到需要下载的文件\n",
    "        for link in links:\n",
    "            href = link.get(\"href\")\n",
    "            if \"edf\" in href or href.endswith(\".txt\"):  # 如果链接中包含 \"chb\"，则认为是需要下载的文件\n",
    "                file_url = url + href\n",
    "                file_name = href.split(\"/\")[-1]\n",
    "                file_path = os.path.join(download_directory, file_name)\n",
    "                file_urls.append(file_url)\n",
    "                file_paths.append(file_path)\n",
    "        \n",
    "        \n",
    "        zip_list = list(zip(file_urls, file_paths))\n",
    "\n",
    "        for item in tqdm(zip_list,desc=f\"下载 {chb_num} 的数据\"):\n",
    "            file_url, file_path = item\n",
    "            if not os.path.exists(file_path):\n",
    "                with open(file_path, \"wb\") as file:\n",
    "                        file.write(requests.get(file_url).content)\n",
    "    else:\n",
    "        print(\"无法访问目录链接\")\n"
   ],
   "outputs": [
    {
     "name": "stderr",
     "output_type": "stream",
     "text": [
      "下载 chb01 的数据: 100%|██████████| 50/50 [00:00<00:00, 50339.70it/s]\n",
      "下载 chb02 的数据: 100%|██████████| 40/40 [00:00<00:00, 25524.44it/s]\n",
      "下载 chb03 的数据: 100%|██████████| 46/46 [00:00<00:00, 91008.48it/s]\n",
      "下载 chb04 的数据: 100%|██████████| 46/46 [00:00<00:00, 30321.86it/s]\n",
      "下载 chb05 的数据: 100%|██████████| 45/45 [00:00<?, ?it/s]\n",
      "下载 chb06 的数据: 100%|██████████| 26/26 [00:00<?, ?it/s]\n",
      "下载 chb07 的数据: 100%|██████████| 23/23 [00:00<00:00, 22968.81it/s]\n",
      "下载 chb08 的数据: 100%|██████████| 26/26 [00:00<00:00, 19001.90it/s]\n",
      "下载 chb09 的数据: 100%|██████████| 23/23 [00:00<00:00, 22990.70it/s]\n",
      "下载 chb10 的数据: 100%|██████████| 33/33 [00:00<00:00, 21834.99it/s]\n",
      "下载 chb11 的数据: 100%|██████████| 39/39 [10:11<00:00, 15.68s/it]\n"
     ]
    },
    {
     "name": "stdout",
     "output_type": "stream",
     "text": [
      "创建下载目录: E:\\Research\\Dataset\\CHB-MIT\\chb12\n"
     ]
    },
    {
     "name": "stderr",
     "output_type": "stream",
     "text": [
      "下载 chb12 的数据: 100%|██████████| 38/38 [11:19<00:00, 17.88s/it]\n"
     ]
    },
    {
     "name": "stdout",
     "output_type": "stream",
     "text": [
      "创建下载目录: E:\\Research\\Dataset\\CHB-MIT\\chb13\n"
     ]
    },
    {
     "name": "stderr",
     "output_type": "stream",
     "text": [
      "下载 chb13 的数据: 100%|██████████| 42/42 [12:44<00:00, 18.21s/it]\n"
     ]
    },
    {
     "name": "stdout",
     "output_type": "stream",
     "text": [
      "创建下载目录: E:\\Research\\Dataset\\CHB-MIT\\chb14\n"
     ]
    },
    {
     "name": "stderr",
     "output_type": "stream",
     "text": [
      "下载 chb14 的数据: 100%|██████████| 34/34 [15:02<00:00, 26.55s/it]\n"
     ]
    }
   ],
   "execution_count": 3
  },
  {
   "metadata": {
    "jupyter": {
     "is_executing": true
    }
   },
   "cell_type": "code",
   "source": "",
   "id": "55774073de04f13d",
   "outputs": [],
   "execution_count": null
  }
 ],
 "metadata": {
  "kernelspec": {
   "display_name": "Python 3",
   "language": "python",
   "name": "python3"
  },
  "language_info": {
   "codemirror_mode": {
    "name": "ipython",
    "version": 2
   },
   "file_extension": ".py",
   "mimetype": "text/x-python",
   "name": "python",
   "nbconvert_exporter": "python",
   "pygments_lexer": "ipython2",
   "version": "2.7.6"
  }
 },
 "nbformat": 4,
 "nbformat_minor": 5
}
