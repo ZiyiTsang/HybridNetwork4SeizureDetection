{
 "cells": [
  {
   "metadata": {
    "ExecuteTime": {
     "end_time": "2024-06-15T15:30:43.775943Z",
     "start_time": "2024-06-15T15:30:39.058799Z"
    }
   },
   "cell_type": "code",
   "source": [
    "import torch\n",
    "from torch import nn\n",
    "from torchinfo import summary\n",
    "from positional_encodings.torch_encodings import PositionalEncoding1D, PositionalEncoding2D, PositionalEncoding3D, Summer\n",
    "import sys\n",
    "sys.path.append('../../')\n",
    "from Model import CNN as cnn"
   ],
   "id": "initial_id",
   "outputs": [],
   "execution_count": 1
  },
  {
   "metadata": {
    "ExecuteTime": {
     "end_time": "2024-06-15T15:33:48.788937Z",
     "start_time": "2024-06-15T15:33:48.777304Z"
    }
   },
   "cell_type": "code",
   "source": [
    "class ResidualBlock(nn.Module):\n",
    "    def __init__(self, in_channels, out_channels, kernel_size, stride=1, padding=0):\n",
    "        super(ResidualBlock, self).__init__()\n",
    "        self.conv1 = nn.Conv2d(in_channels, out_channels, kernel_size, stride=stride, padding=padding)\n",
    "        self.bn1 = nn.BatchNorm2d(out_channels)\n",
    "        self.relu = nn.ReLU(inplace=True)\n",
    "        self.conv2 = nn.Conv2d(out_channels, out_channels, kernel_size, stride=1, padding=padding)\n",
    "        self.bn2 = nn.BatchNorm2d(out_channels)\n",
    "        self.downsample = None\n",
    "        if stride != 1 or in_channels != out_channels:\n",
    "            self.downsample = nn.Sequential(\n",
    "                nn.Conv2d(in_channels, out_channels, kernel_size=1, stride=stride, bias=False),\n",
    "                nn.BatchNorm2d(out_channels)\n",
    "            )\n",
    "\n",
    "        self.encoder_name = \"CNN\"\n",
    "\n",
    "    def forward(self, x):\n",
    "        identity = x\n",
    "        out = self.conv1(x)\n",
    "        out = self.bn1(out)\n",
    "        out = self.relu(out)\n",
    "        out = self.conv2(out)\n",
    "        out = self.bn2(out)\n",
    "        if self.downsample is not None:\n",
    "            identity = self.downsample(x)\n",
    "        out += identity\n",
    "        out = self.relu(out)\n",
    "        return out\n",
    "\n",
    "class ConvNetBlock_large_2s(nn.Module):\n",
    "    def __init__(self):\n",
    "        super(ConvNetBlock_large_2s, self).__init__()\n",
    "        self.conv1 = nn.Conv2d(in_channels=22, out_channels=32, kernel_size=5, stride=1, padding=2)\n",
    "        self.bn1 = nn.BatchNorm2d(32)\n",
    "        self.relu = nn.ReLU(inplace=True)\n",
    "        self.mpv1 = nn.MaxPool2d(kernel_size=3, stride=(2, 1),padding=1)\n",
    "        self.block1 = ResidualBlock(32, 64, kernel_size=3, stride=1, padding=1)\n",
    "        self.mpv2 = nn.MaxPool2d(kernel_size=3, stride=(2, 1),padding=1)\n",
    "        self.block2 = ResidualBlock(64, 128, kernel_size=3, stride=1, padding=1)\n",
    "        self.mpv3 = nn.MaxPool2d(kernel_size=3, stride=2,padding=1)\n",
    "        self.block3 = ResidualBlock(128, 256, kernel_size=3, stride=1, padding=1)\n",
    "        self.mpv4 = nn.MaxPool2d(kernel_size=3, stride=2,padding=1)\n",
    "        self.block4 = ResidualBlock(256, 512, kernel_size=3, stride=1, padding=1)\n",
    "        self.mpv5 = nn.MaxPool2d(kernel_size=3, stride=2,padding=1)\n",
    "        self.block5 = ResidualBlock(512, 768, kernel_size=3, stride=1, padding=1)\n",
    "        self.mpv6 = nn.AdaptiveAvgPool2d((1, 1))\n",
    "        self.Flatten = nn.Flatten()\n",
    "\n",
    "        self.encoder_name = \"CNN\"\n",
    "\n",
    "    def forward(self, x):\n",
    "        x = self.conv1(x)\n",
    "        x = self.bn1(x)\n",
    "        x = self.relu(x)\n",
    "        x = self.mpv1(x)\n",
    "        x = self.block1(x)\n",
    "        x = self.mpv2(x)\n",
    "        x = self.block2(x)\n",
    "        x = self.mpv3(x)\n",
    "        x = self.block3(x)\n",
    "        x = self.mpv4(x)\n",
    "        x = self.block4(x)\n",
    "        x = self.mpv5(x)\n",
    "        x = self.block5(x)\n",
    "        x = self.mpv6(x)\n",
    "        x = self.Flatten(x)\n",
    "        return x"
   ],
   "id": "6c7cd5ed2e463103",
   "outputs": [],
   "execution_count": 12
  },
  {
   "cell_type": "code",
   "id": "8f7a4f04108be9f8",
   "metadata": {
    "ExecuteTime": {
     "end_time": "2024-06-15T15:33:49.602436Z",
     "start_time": "2024-06-15T15:33:49.463479Z"
    }
   },
   "source": [
    "summary(ConvNetBlock_large_2s(), input_size=(10, 22, 65,9))\n",
    "# summary(cnn.ConvNetBlock_small(), input_size=(10, 22, 65,21))"
   ],
   "outputs": [
    {
     "data": {
      "text/plain": [
       "==========================================================================================\n",
       "Layer (type:depth-idx)                   Output Shape              Param #\n",
       "==========================================================================================\n",
       "ConvNetBlock_large_2s                    [10, 768]                 --\n",
       "├─Conv2d: 1-1                            [10, 32, 65, 9]           17,632\n",
       "├─BatchNorm2d: 1-2                       [10, 32, 65, 9]           64\n",
       "├─ReLU: 1-3                              [10, 32, 65, 9]           --\n",
       "├─MaxPool2d: 1-4                         [10, 32, 33, 9]           --\n",
       "├─ResidualBlock: 1-5                     [10, 64, 33, 9]           --\n",
       "│    └─Conv2d: 2-1                       [10, 64, 33, 9]           18,496\n",
       "│    └─BatchNorm2d: 2-2                  [10, 64, 33, 9]           128\n",
       "│    └─ReLU: 2-3                         [10, 64, 33, 9]           --\n",
       "│    └─Conv2d: 2-4                       [10, 64, 33, 9]           36,928\n",
       "│    └─BatchNorm2d: 2-5                  [10, 64, 33, 9]           128\n",
       "│    └─Sequential: 2-6                   [10, 64, 33, 9]           --\n",
       "│    │    └─Conv2d: 3-1                  [10, 64, 33, 9]           2,048\n",
       "│    │    └─BatchNorm2d: 3-2             [10, 64, 33, 9]           128\n",
       "│    └─ReLU: 2-7                         [10, 64, 33, 9]           --\n",
       "├─MaxPool2d: 1-6                         [10, 64, 17, 9]           --\n",
       "├─ResidualBlock: 1-7                     [10, 128, 17, 9]          --\n",
       "│    └─Conv2d: 2-8                       [10, 128, 17, 9]          73,856\n",
       "│    └─BatchNorm2d: 2-9                  [10, 128, 17, 9]          256\n",
       "│    └─ReLU: 2-10                        [10, 128, 17, 9]          --\n",
       "│    └─Conv2d: 2-11                      [10, 128, 17, 9]          147,584\n",
       "│    └─BatchNorm2d: 2-12                 [10, 128, 17, 9]          256\n",
       "│    └─Sequential: 2-13                  [10, 128, 17, 9]          --\n",
       "│    │    └─Conv2d: 3-3                  [10, 128, 17, 9]          8,192\n",
       "│    │    └─BatchNorm2d: 3-4             [10, 128, 17, 9]          256\n",
       "│    └─ReLU: 2-14                        [10, 128, 17, 9]          --\n",
       "├─MaxPool2d: 1-8                         [10, 128, 9, 5]           --\n",
       "├─ResidualBlock: 1-9                     [10, 256, 9, 5]           --\n",
       "│    └─Conv2d: 2-15                      [10, 256, 9, 5]           295,168\n",
       "│    └─BatchNorm2d: 2-16                 [10, 256, 9, 5]           512\n",
       "│    └─ReLU: 2-17                        [10, 256, 9, 5]           --\n",
       "│    └─Conv2d: 2-18                      [10, 256, 9, 5]           590,080\n",
       "│    └─BatchNorm2d: 2-19                 [10, 256, 9, 5]           512\n",
       "│    └─Sequential: 2-20                  [10, 256, 9, 5]           --\n",
       "│    │    └─Conv2d: 3-5                  [10, 256, 9, 5]           32,768\n",
       "│    │    └─BatchNorm2d: 3-6             [10, 256, 9, 5]           512\n",
       "│    └─ReLU: 2-21                        [10, 256, 9, 5]           --\n",
       "├─MaxPool2d: 1-10                        [10, 256, 5, 3]           --\n",
       "├─ResidualBlock: 1-11                    [10, 512, 5, 3]           --\n",
       "│    └─Conv2d: 2-22                      [10, 512, 5, 3]           1,180,160\n",
       "│    └─BatchNorm2d: 2-23                 [10, 512, 5, 3]           1,024\n",
       "│    └─ReLU: 2-24                        [10, 512, 5, 3]           --\n",
       "│    └─Conv2d: 2-25                      [10, 512, 5, 3]           2,359,808\n",
       "│    └─BatchNorm2d: 2-26                 [10, 512, 5, 3]           1,024\n",
       "│    └─Sequential: 2-27                  [10, 512, 5, 3]           --\n",
       "│    │    └─Conv2d: 3-7                  [10, 512, 5, 3]           131,072\n",
       "│    │    └─BatchNorm2d: 3-8             [10, 512, 5, 3]           1,024\n",
       "│    └─ReLU: 2-28                        [10, 512, 5, 3]           --\n",
       "├─MaxPool2d: 1-12                        [10, 512, 3, 2]           --\n",
       "├─ResidualBlock: 1-13                    [10, 768, 3, 2]           --\n",
       "│    └─Conv2d: 2-29                      [10, 768, 3, 2]           3,539,712\n",
       "│    └─BatchNorm2d: 2-30                 [10, 768, 3, 2]           1,536\n",
       "│    └─ReLU: 2-31                        [10, 768, 3, 2]           --\n",
       "│    └─Conv2d: 2-32                      [10, 768, 3, 2]           5,309,184\n",
       "│    └─BatchNorm2d: 2-33                 [10, 768, 3, 2]           1,536\n",
       "│    └─Sequential: 2-34                  [10, 768, 3, 2]           --\n",
       "│    │    └─Conv2d: 3-9                  [10, 768, 3, 2]           393,216\n",
       "│    │    └─BatchNorm2d: 3-10            [10, 768, 3, 2]           1,536\n",
       "│    └─ReLU: 2-35                        [10, 768, 3, 2]           --\n",
       "├─AdaptiveAvgPool2d: 1-14                [10, 768, 1, 1]           --\n",
       "├─Flatten: 1-15                          [10, 768]                 --\n",
       "==========================================================================================\n",
       "Total params: 14,146,336\n",
       "Trainable params: 14,146,336\n",
       "Non-trainable params: 0\n",
       "Total mult-adds (G): 2.14\n",
       "==========================================================================================\n",
       "Input size (MB): 0.51\n",
       "Forward/backward pass size (MB): 32.95\n",
       "Params size (MB): 56.59\n",
       "Estimated Total Size (MB): 90.05\n",
       "=========================================================================================="
      ]
     },
     "execution_count": 13,
     "metadata": {},
     "output_type": "execute_result"
    }
   ],
   "execution_count": 13
  },
  {
   "cell_type": "code",
   "execution_count": null,
   "id": "412bc4f4668e2a35",
   "metadata": {},
   "source": "\n",
   "outputs": []
  }
 ],
 "metadata": {
  "kernelspec": {
   "display_name": "Python 3 (ipykernel)",
   "language": "python",
   "name": "python3"
  },
  "language_info": {
   "codemirror_mode": {
    "name": "ipython",
    "version": 3
   },
   "file_extension": ".py",
   "mimetype": "text/x-python",
   "name": "python",
   "nbconvert_exporter": "python",
   "pygments_lexer": "ipython3",
   "version": "3.10.0"
  }
 },
 "nbformat": 4,
 "nbformat_minor": 5
}
