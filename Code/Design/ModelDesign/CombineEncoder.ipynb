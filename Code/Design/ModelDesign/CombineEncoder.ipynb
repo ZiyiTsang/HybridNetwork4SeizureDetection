{
 "cells": [
  {
   "cell_type": "code",
   "id": "initial_id",
   "metadata": {
    "collapsed": true,
    "ExecuteTime": {
     "end_time": "2024-05-07T04:33:20.119098Z",
     "start_time": "2024-05-07T04:33:10.317923Z"
    }
   },
   "source": [
    "import sys\n",
    "sys.path.append('../../')\n",
    "from Model import CommonBlock as CB\n",
    "from Model import Convlstm as clm"
   ],
   "execution_count": 1,
   "outputs": []
  },
  {
   "metadata": {
    "ExecuteTime": {
     "end_time": "2024-05-07T04:33:27.428375Z",
     "start_time": "2024-05-07T04:33:27.310777Z"
    }
   },
   "cell_type": "code",
   "source": [
    "encodera=clm.ConvLSTMCompose(22, 192, (3, 3), 3, True, True, False)\n",
    "encoderb=clm.ConvLSTMCompose(22, 192, (3, 3), 3, True, True, False)"
   ],
   "id": "17b296b41f986347",
   "execution_count": 2,
   "outputs": []
  },
  {
   "metadata": {
    "ExecuteTime": {
     "end_time": "2024-05-07T04:33:30.114350Z",
     "start_time": "2024-05-07T04:33:30.097350Z"
    }
   },
   "cell_type": "code",
   "source": "combine_e=CB.CombineEncoder(encodera,encoderb)",
   "id": "1e4f42050ed8168a",
   "execution_count": 3,
   "outputs": []
  },
  {
   "metadata": {
    "ExecuteTime": {
     "end_time": "2024-05-07T04:33:33.491066Z",
     "start_time": "2024-05-07T04:33:30.894605Z"
    }
   },
   "cell_type": "code",
   "source": [
    "from torchinfo import torchinfo\n",
    "\n",
    "torchinfo.summary(combine_e, input_size=((96, 22, 65, 21)))"
   ],
   "id": "5e835dd76da4c9d8",
   "execution_count": 4,
   "outputs": []
  },
  {
   "metadata": {},
   "cell_type": "code",
   "execution_count": null,
   "source": "",
   "id": "475e2da11de0d1f1",
   "outputs": []
  }
 ],
 "metadata": {
  "kernelspec": {
   "display_name": "Python 3",
   "language": "python",
   "name": "python3"
  },
  "language_info": {
   "codemirror_mode": {
    "name": "ipython",
    "version": 2
   },
   "file_extension": ".py",
   "mimetype": "text/x-python",
   "name": "python",
   "nbconvert_exporter": "python",
   "pygments_lexer": "ipython2",
   "version": "2.7.6"
  }
 },
 "nbformat": 4,
 "nbformat_minor": 5
}
