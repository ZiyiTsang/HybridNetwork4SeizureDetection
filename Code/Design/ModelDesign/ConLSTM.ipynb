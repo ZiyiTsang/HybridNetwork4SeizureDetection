{
 "cells": [
  {
   "cell_type": "code",
   "id": "initial_id",
   "metadata": {
    "collapsed": true,
    "ExecuteTime": {
     "end_time": "2024-06-08T08:49:23.594376Z",
     "start_time": "2024-06-08T08:49:23.577557Z"
    }
   },
   "source": [
    "import sys\n",
    "sys.path.append('../../')\n",
    "from Model import Convlstm as clm\n",
    "import torch\n",
    "import torch.nn as nn\n",
    "from einops import rearrange\n",
    "import torchinfo\n",
    "from Utils.Functions import get_Net\n",
    "print(5)\n"
   ],
   "execution_count": 4,
   "outputs": []
  },
  {
   "metadata": {
    "ExecuteTime": {
     "end_time": "2024-06-08T08:55:45.279996Z",
     "start_time": "2024-06-08T08:55:45.269395Z"
    }
   },
   "cell_type": "code",
   "source": [
    "class ConvLSTMCompose(nn.Module):\n",
    "    @staticmethod\n",
    "    def add_model_specific_args(parent_parser):\n",
    "        parser = parent_parser.add_argument_group(\"LitModel\")\n",
    "        parser.add_argument(\"--input_dim\", type=int, default=1430)\n",
    "\n",
    "        return parent_parser\n",
    "    def __init__(self, input_dim, hidden_dim, kernel_size, num_layers, batch_first, bias, return_all_layers):\n",
    "        super(ConvLSTMCompose, self).__init__()\n",
    "        self.lstm = clm.ConvLSTM(input_dim=input_dim, hidden_dim=hidden_dim, kernel_size=kernel_size,\n",
    "                                 num_layers=num_layers, batch_first=batch_first, bias=bias,\n",
    "                                 return_all_layers=return_all_layers)\n",
    "        self.batch_norm = nn.BatchNorm2d(hidden_dim)\n",
    "        if hidden_dim>=100 and hidden_dim<384:\n",
    "            self.avg_pool= nn.AdaptiveAvgPool2d((2, 3))\n",
    "        elif hidden_dim>=384:\n",
    "            self.avg_pool= nn.AdaptiveAvgPool2d((2, 1))\n",
    "        elif hidden_dim==48:\n",
    "            self.avg_pool= nn.AdaptiveAvgPool2d((4, 4))\n",
    "        else:\n",
    "            self.avg_pool= nn.AdaptiveAvgPool2d((2, 4))\n",
    "        self.flatten = nn.Flatten()\n",
    "\n",
    "\n",
    "    def forward(self, x):\n",
    "        print(x.shape)\n",
    "        x = rearrange(x, 'b c (w1 w2) h -> b w1 c w2 h', w1=5, w2=13)\n",
    "        print(x.shape)\n",
    "        x = self.lstm(x)[0][0][:, -1, :, :, :]\n",
    "        print(x.shape)\n",
    "        x = self.flatten(self.avg_pool(self.batch_norm(x)))\n",
    "        return x"
   ],
   "id": "c03f7c05320535f8",
   "execution_count": 16,
   "outputs": []
  },
  {
   "metadata": {
    "ExecuteTime": {
     "end_time": "2024-06-08T08:57:20.739124Z",
     "start_time": "2024-06-08T08:57:20.299650Z"
    }
   },
   "cell_type": "code",
   "source": "torchinfo.summary(ConvLSTMCompose(22, 48, (3, 3), 1, True, True, False), (96, 22, 65, 21))",
   "id": "204218761219e63f",
   "execution_count": 19,
   "outputs": []
  },
  {
   "metadata": {
    "ExecuteTime": {
     "end_time": "2024-06-08T08:18:38.367471Z",
     "start_time": "2024-06-08T08:18:37.920281Z"
    }
   },
   "cell_type": "code",
   "source": "torchinfo.summary(clm.ConvLSTMCompose(22, 96, (3, 3), 2, True, True, False), (96, 22, 65, 21))",
   "id": "a2cfe8915ed9a3c4",
   "execution_count": 3,
   "outputs": []
  },
  {
   "metadata": {},
   "cell_type": "code",
   "execution_count": null,
   "source": "",
   "id": "cff0f3bb06c27be2",
   "outputs": []
  }
 ],
 "metadata": {
  "kernelspec": {
   "display_name": "Python 3",
   "language": "python",
   "name": "python3"
  },
  "language_info": {
   "codemirror_mode": {
    "name": "ipython",
    "version": 2
   },
   "file_extension": ".py",
   "mimetype": "text/x-python",
   "name": "python",
   "nbconvert_exporter": "python",
   "pygments_lexer": "ipython2",
   "version": "2.7.6"
  }
 },
 "nbformat": 4,
 "nbformat_minor": 5
}
