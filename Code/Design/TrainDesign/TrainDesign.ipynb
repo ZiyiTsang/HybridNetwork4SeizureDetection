{
 "cells": [
  {
   "cell_type": "code",
   "id": "bacfb3c4e9d06df3",
   "metadata": {
    "collapsed": true,
    "jupyter": {
     "outputs_hidden": true
    },
    "ExecuteTime": {
     "end_time": "2024-04-03T10:01:01.787231Z",
     "start_time": "2024-04-03T10:00:53.235643Z"
    }
   },
   "source": [
    "import comet_ml\n",
    "import sys\n",
    "import os\n",
    "from lightning.pytorch import Trainer\n",
    "from lightning.pytorch.loggers import CometLogger\n",
    "sys.path.append('../../')\n",
    "from Model import Transformer as ts\n",
    "from Model import CHB_Loader as cl\n",
    "from lightning.pytorch.callbacks.early_stopping import EarlyStopping\n",
    "import torch\n",
    "torch.set_float32_matmul_precision(\"medium\")"
   ],
   "execution_count": 1,
   "outputs": []
  },
  {
   "cell_type": "code",
   "id": "3db3c4b056f4a644",
   "metadata": {
    "ExecuteTime": {
     "end_time": "2024-04-03T10:01:01.802928Z",
     "start_time": "2024-04-03T10:01:01.787231Z"
    }
   },
   "source": [
    "project_path = os.path.abspath(os.path.relpath('../../../../', os.getcwd()))\n",
    "log_path = os.path.join(project_path, 'BilinearNetwork/Data/Logs')"
   ],
   "execution_count": 2,
   "outputs": []
  },
  {
   "cell_type": "code",
   "id": "initial_id",
   "metadata": {
    "ExecuteTime": {
     "end_time": "2024-04-03T10:01:04.270961Z",
     "start_time": "2024-04-03T10:01:03.780617Z"
    }
   },
   "source": [
    "\n",
    "# arguments made to CometLogger are passed on to the comet_ml.Experiment class\n",
    "comet_logger = CometLogger(\n",
    "    api_key='LXYMHm1xV9Y09OfGVdmB0YQUy',\n",
    "    workspace=\"ziyitsang\",  # Optional\n",
    "    save_dir=log_path,  # Optional\n",
    "    project_name=\"chb-dependent\",  # Optional\n",
    "    experiment_name=\"lightning_logs\",  # Optional\n",
    "\n",
    ")\n",
    "trainer = Trainer(logger=comet_logger, callbacks=[EarlyStopping(monitor='val_loss', patience=2)],default_root_dir=log_path,precision=\"32-true\",max_epochs=30,benchmark=True)\n",
    "# ----\n",
    "\n",
    "datamodule=cl.CHBDependentDM(data_dir=os.path.join(project_path, 'BilinearNetwork/Data/PreprocessedData/CHB-MIT/STFT'), patient_id=1,batch_size=512)\n"
   ],
   "execution_count": 3,
   "outputs": []
  },
  {
   "metadata": {
    "ExecuteTime": {
     "end_time": "2024-04-03T10:01:28.100874Z",
     "start_time": "2024-04-03T10:01:06.683947Z"
    }
   },
   "cell_type": "code",
   "source": "Net = ts.Transformer(n_heads=8,n_layers=6,lr=1e-4)\n",
   "id": "7e5a47cfb4623003",
   "execution_count": 4,
   "outputs": []
  },
  {
   "metadata": {
    "ExecuteTime": {
     "end_time": "2024-04-03T10:08:06.872438Z",
     "start_time": "2024-04-03T10:01:49.199245Z"
    }
   },
   "cell_type": "code",
   "source": "trainer.fit(model=Net, datamodule=datamodule)\n",
   "id": "7b58498f226c46f8",
   "execution_count": 5,
   "outputs": []
  },
  {
   "cell_type": "code",
   "id": "bff8039ff466af55",
   "metadata": {
    "ExecuteTime": {
     "end_time": "2024-04-03T09:39:07.811688Z",
     "start_time": "2024-04-03T09:38:57.664022Z"
    }
   },
   "source": "comet_logger.experiment.end()",
   "execution_count": 5,
   "outputs": []
  },
  {
   "cell_type": "code",
   "id": "259568eaf8cb5280",
   "metadata": {
    "ExecuteTime": {
     "end_time": "2024-04-03T09:39:07.827644Z",
     "start_time": "2024-04-03T09:39:07.811688Z"
    }
   },
   "source": [],
   "execution_count": 5,
   "outputs": []
  }
 ],
 "metadata": {
  "kernelspec": {
   "display_name": "Python 3 (ipykernel)",
   "language": "python",
   "name": "python3"
  },
  "language_info": {
   "codemirror_mode": {
    "name": "ipython",
    "version": 3
   },
   "file_extension": ".py",
   "mimetype": "text/x-python",
   "name": "python",
   "nbconvert_exporter": "python",
   "pygments_lexer": "ipython3",
   "version": "3.10.0"
  }
 },
 "nbformat": 4,
 "nbformat_minor": 5
}
