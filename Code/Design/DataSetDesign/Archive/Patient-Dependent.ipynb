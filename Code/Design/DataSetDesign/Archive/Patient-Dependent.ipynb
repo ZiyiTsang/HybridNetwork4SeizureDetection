{
 "cells": [
  {
   "cell_type": "code",
   "id": "initial_id",
   "metadata": {
    "collapsed": true,
    "ExecuteTime": {
     "end_time": "2024-04-08T11:03:23.081932Z",
     "start_time": "2024-04-08T11:03:23.061403Z"
    }
   },
   "source": [
    "import pandas as pd\n",
    "import re\n",
    "import os\n",
    "import numpy as np\n",
    "project_path = os.path.abspath(os.path.relpath('../../../../', os.getcwd()))\n",
    "import lightning as L\n",
    "from torch.utils.data import random_split, DataLoader\n",
    "from torchvision.datasets import MNIST\n",
    "from torchvision import transforms\n",
    "from sklearn.model_selection import train_test_split\n",
    "from torch.utils.data import Dataset"
   ],
   "execution_count": 5,
   "outputs": []
  },
  {
   "metadata": {
    "ExecuteTime": {
     "end_time": "2024-04-08T11:03:23.516629Z",
     "start_time": "2024-04-08T11:03:23.498631Z"
    }
   },
   "cell_type": "code",
   "source": [
    "class CHBDependentDataset(Dataset):\n",
    "    def __init__(self,data_dir:str,patient_id:int,stage:str):\n",
    "        self.data_dir = data_dir\n",
    "        self.interictal_path=os.path.join(self.data_dir,os.path.join('chb'+str(patient_id).zfill(2)+\"_interictal.npz\"))\n",
    "        self.preictal_path=os.path.join(self.data_dir,os.path.join('chb'+str(patient_id).zfill(2)+\"_preictal.npz\"))\n",
    "        self.interictal = np.load(self.interictal_path)['data']\n",
    "        self.preictal = np.load(self.preictal_path)['data']\n",
    "        if stage == 'train':\n",
    "            self.X = np.concatenate((self.interictal[:int(0.8*len(self.interictal))],self.preictal[:int(0.8*len(self.preictal))]))\n",
    "            self.y = np.concatenate((np.zeros(int(0.8*len(self.interictal))),np.ones(int(0.8*len(self.preictal)))))\n",
    "        elif stage == 'val':\n",
    "            self.X = np.concatenate((self.interictal[int(0.8*len(self.interictal)):],self.preictal[int(0.8*len(self.preictal)):]))\n",
    "            self.y = np.concatenate((np.zeros(len(self.interictal)-int(0.8*len(self.interictal))),np.ones(len(self.preictal)-int(0.8*len(self.preictal)))))\n",
    "        \n",
    "        else:\n",
    "            raise ValueError(\"Invalid stage\")\n",
    "\n",
    "\n",
    "    def __getitem__(self,index):\n",
    "        return self.X[index],self.y[index]\n",
    "\n",
    "    def __len__(self):\n",
    "        return len(self.X)\n",
    "        \n",
    "        \n",
    "        "
   ],
   "id": "d8e409beeb495c77",
   "execution_count": 6,
   "outputs": []
  },
  {
   "metadata": {
    "ExecuteTime": {
     "end_time": "2024-04-08T11:03:24.459413Z",
     "start_time": "2024-04-08T11:03:24.443413Z"
    }
   },
   "cell_type": "code",
   "source": [
    "\n",
    "\n",
    "\n",
    "class CHBDependentDM(L.LightningDataModule):\n",
    "    def __init__(self, data_dir: str ,patient_id:int,batch_size:int=32):\n",
    "        super().__init__()\n",
    "        self.trainset = None\n",
    "        self.valset = None\n",
    "        self.testset = None\n",
    "        self.batch_size = batch_size\n",
    "        self.data_dir = data_dir\n",
    "        self.patient_id = patient_id\n",
    "        \n",
    "\n",
    "    def prepare_data(self):\n",
    "        pass\n",
    "\n",
    "    def setup(self, stage: str):\n",
    "        if stage == 'fit':\n",
    "            self.trainset = CHBDependentDataset(self.data_dir,self.patient_id,stage='train')\n",
    "            self.valset = CHBDependentDataset(self.data_dir,self.patient_id,stage='val')\n",
    "    \n",
    "        else:\n",
    "            raise ValueError(\"Invalid stage\")\n",
    "        \n",
    "        \n",
    "    def train_dataloader(self):\n",
    "        return DataLoader(self.trainset, batch_size=self.batch_size,shuffle=True,pin_memory=True)\n",
    "\n",
    "    def val_dataloader(self):\n",
    "        return DataLoader(self.valset, batch_size=self.batch_size,shuffle=False,pin_memory=True)\n",
    "\n",
    "    def test_dataloader(self):\n",
    "        return None\n",
    "\n",
    "    def predict_dataloader(self):\n",
    "        return None"
   ],
   "id": "af9897cbae967be2",
   "execution_count": 7,
   "outputs": []
  },
  {
   "metadata": {
    "ExecuteTime": {
     "end_time": "2024-04-08T11:03:34.176091Z",
     "start_time": "2024-04-08T11:03:25.099951Z"
    }
   },
   "cell_type": "code",
   "source": [
    "dm = CHBDependentDM(data_dir=os.path.join(project_path,os.path.join(project_path,'BilinearNetwork/Data/PreprocessedData/CHB-MIT/STFT')),patient_id=1)\n",
    "dm.prepare_data()\n",
    "dm.setup(stage=\"fit\")"
   ],
   "id": "71d0f29482a8f21d",
   "execution_count": 8,
   "outputs": []
  },
  {
   "metadata": {
    "ExecuteTime": {
     "end_time": "2024-04-08T11:03:39.335188Z",
     "start_time": "2024-04-08T11:03:39.194666Z"
    }
   },
   "cell_type": "code",
   "source": [
    "\n",
    "for x,y in dm.val_dataloader():\n",
    "    print(x.shape)\n",
    "    \n",
    "    print(y.shape)\n",
    "    break"
   ],
   "id": "9e73a77f6ca59b95",
   "execution_count": 9,
   "outputs": []
  },
  {
   "metadata": {
    "ExecuteTime": {
     "end_time": "2024-04-02T17:11:22.694559Z",
     "start_time": "2024-04-02T17:11:22.684520Z"
    }
   },
   "cell_type": "code",
   "source": "",
   "id": "c99ab633bd88c2dd",
   "execution_count": 5,
   "outputs": []
  }
 ],
 "metadata": {
  "kernelspec": {
   "display_name": "Python 3",
   "language": "python",
   "name": "python3"
  },
  "language_info": {
   "codemirror_mode": {
    "name": "ipython",
    "version": 2
   },
   "file_extension": ".py",
   "mimetype": "text/x-python",
   "name": "python",
   "nbconvert_exporter": "python",
   "pygments_lexer": "ipython2",
   "version": "2.7.6"
  }
 },
 "nbformat": 4,
 "nbformat_minor": 5
}
