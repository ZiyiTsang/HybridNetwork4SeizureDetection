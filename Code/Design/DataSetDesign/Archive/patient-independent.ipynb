{
 "cells": [
  {
   "metadata": {
    "ExecuteTime": {
     "end_time": "2024-04-08T12:23:51.068572Z",
     "start_time": "2024-04-08T12:23:37.516924Z"
    }
   },
   "cell_type": "code",
   "source": [
    "import pandas as pd\n",
    "import re\n",
    "import os\n",
    "import numpy as np\n",
    "project_path = os.path.abspath(os.path.relpath('../../../../', os.getcwd()))\n",
    "import lightning as L\n",
    "from torch.utils.data import random_split, DataLoader\n",
    "from torchvision.datasets import MNIST\n",
    "from torchvision import transforms\n",
    "from sklearn.model_selection import train_test_split\n",
    "from torch.utils.data import Dataset"
   ],
   "id": "e575412a2c7e3a01",
   "execution_count": 1,
   "outputs": []
  },
  {
   "metadata": {
    "ExecuteTime": {
     "end_time": "2024-04-08T12:26:43.752093Z",
     "start_time": "2024-04-08T12:26:43.728093Z"
    }
   },
   "cell_type": "code",
   "source": [
    "import multiprocessing\n",
    "import os\n",
    "import numpy as np\n",
    "from torch.utils.data import Dataset, DataLoader\n",
    "\n",
    "class CHBindependant_train(Dataset):\n",
    "    def __init__(self, data_dir,num_leave_out=500):\n",
    "        self.data_dir = data_dir\n",
    "        self.file_list = os.listdir(data_dir)\n",
    "        self.file_list.sort()\n",
    "        self.num_samples_per_file = None\n",
    "        self.leave_out = num_leave_out\n",
    "        \n",
    "        first_file = np.load(os.path.join(data_dir, self.file_list[0]))['data']\n",
    "        self.num_samples_per_file = len(first_file)\n",
    "        last_file= np.load(os.path.join(data_dir, self.file_list[-1]))['data']\n",
    "        num_samples_last_file = len(last_file)\n",
    "        del first_file, last_file\n",
    "        self.total_num_samples = int(((len(self.file_list)-1) * (self.num_samples_per_file))+num_samples_last_file)\n",
    "        \n",
    "        self.lock = multiprocessing.Lock()\n",
    "        self.current_file_idx=None\n",
    "        self.current_data=None\n",
    "        self.current_label=None\n",
    "        \n",
    "    def __len__(self):\n",
    "        return self.total_num_samples\n",
    "    \n",
    "    def __getitem__(self, idx):\n",
    "        file_idx = idx // self.num_samples_per_file\n",
    "        sample_idx = idx % self.num_samples_per_file\n",
    "        \n",
    "        if sample_idx >= self.num_samples_per_file:\n",
    "            raise ValueError('sample_idx out of range')\n",
    "        elif sample_idx >= self.leave_out:\n",
    "            sample_idx-=self.leave_out\n",
    "        \n",
    "        with self.lock:\n",
    "            if self.current_file_idx != file_idx:\n",
    "                current_file = np.load(os.path.join(self.data_dir, self.file_list[file_idx]),mmap_mode='r',allow_pickle=False)\n",
    "                self.current_data = current_file['data']\n",
    "                self.current_label = current_file['label']\n",
    "                self.current_file_idx = file_idx\n",
    "        data = self.current_data[sample_idx]\n",
    "        label = self.current_label[sample_idx]\n",
    "        return data, label"
   ],
   "id": "1dd47c2ce9b6b4c5",
   "execution_count": 7,
   "outputs": []
  },
  {
   "metadata": {
    "ExecuteTime": {
     "end_time": "2024-04-08T12:26:44.515182Z",
     "start_time": "2024-04-08T12:26:44.492184Z"
    }
   },
   "cell_type": "code",
   "source": [
    "class CHBindependant_valid(Dataset):\n",
    "    def __init__(self, data_dir,num_leave_out=500):\n",
    "        self.file_list = os.listdir(data_dir)\n",
    "        datas=[]\n",
    "        labels=[]\n",
    "        for file_name in self.file_list:\n",
    "            file=np.load(os.path.join(data_dir, file_name),mmap_mode='r',allow_pickle=False)\n",
    "            datas.append(file['data'][num_leave_out:])\n",
    "            labels.append(file['label'][num_leave_out:])\n",
    "        self.data = np.concatenate(datas)\n",
    "        self.label = np.concatenate(labels)\n",
    "    def __len__(self):\n",
    "        return len(self.data)\n",
    "    \n",
    "    def __getitem__(self, idx):\n",
    "        return self.data[idx], self.label[idx]\n"
   ],
   "id": "38cfad8fb6f86a8d",
   "execution_count": 8,
   "outputs": []
  },
  {
   "metadata": {
    "ExecuteTime": {
     "end_time": "2024-04-08T12:27:12.499793Z",
     "start_time": "2024-04-08T12:26:45.662305Z"
    }
   },
   "cell_type": "code",
   "source": [
    "\n",
    "# 使用示例\n",
    "data_dir = os.path.join(project_path, 'BilinearNetwork/Data/PreprocessedData/CHB-MIT/Concanate/Test')\n",
    "# dataset_train = CHBindependant_train(data_dir)\n",
    "dataset_test = CHBindependant_valid(data_dir)\n",
    "dataloader = DataLoader(dataset_test, batch_size=32, shuffle=False, num_workers=0)"
   ],
   "id": "2b4624dcdbfd6c47",
   "execution_count": 9,
   "outputs": []
  },
  {
   "metadata": {},
   "cell_type": "code",
   "execution_count": null,
   "source": [
    "class CHBDependentDM(L.LightningDataModule):\n",
    "    def __init__(self, root_dir: str ,batch_size:int=32):\n",
    "        super().__init__()\n",
    "        self.trainset = CHBindependant_train(os.path.join(root_dir, 'Train'))\n",
    "        self.valset = CHBindependant_valid(os.path.join(root_dir, 'Train'))\n",
    "        self.testset = None\n",
    "        self.batch_size = batch_size\n",
    "        self.root_dir = root_dir\n",
    "\n",
    "        \n",
    "\n",
    "    def prepare_data(self):\n",
    "        pass\n",
    "\n",
    "    def setup(self, stage: str):\n",
    "        if stage=='test':\n",
    "            self.testset = CHBindependant_train(os.path.join(self.root_dir, 'Test'))\n",
    "        else:\n",
    "            self.testset = None\n",
    "        \n",
    "        \n",
    "    def train_dataloader(self):\n",
    "        return DataLoader(self.trainset, batch_size=self.batch_size,shuffle=True,pin_memory=True)\n",
    "\n",
    "    def val_dataloader(self):\n",
    "        return DataLoader(self.valset, batch_size=self.batch_size,shuffle=False,pin_memory=True)\n",
    "\n",
    "    def test_dataloader(self):\n",
    "        return DataLoader(self.testset, batch_size=self.batch_size,shuffle=False,pin_memory=True)\n",
    "\n",
    "    def predict_dataloader(self):\n",
    "        return None"
   ],
   "id": "b370e1f7d10deab8",
   "outputs": []
  }
 ],
 "metadata": {
  "kernelspec": {
   "display_name": "Python 3",
   "language": "python",
   "name": "python3"
  },
  "language_info": {
   "codemirror_mode": {
    "name": "ipython",
    "version": 2
   },
   "file_extension": ".py",
   "mimetype": "text/x-python",
   "name": "python",
   "nbconvert_exporter": "python",
   "pygments_lexer": "ipython2",
   "version": "2.7.6"
  }
 },
 "nbformat": 4,
 "nbformat_minor": 5
}
