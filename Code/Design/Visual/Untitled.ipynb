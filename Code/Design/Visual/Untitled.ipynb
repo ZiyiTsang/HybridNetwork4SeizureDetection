{
 "cells": [
  {
   "cell_type": "code",
   "id": "192d630f-cada-4f9a-a295-a234134b52c0",
   "metadata": {
    "ExecuteTime": {
     "end_time": "2024-06-18T07:09:20.513865Z",
     "start_time": "2024-06-18T07:09:20.499696Z"
    }
   },
   "source": [
    "import math\n",
    "\n",
    "# 已知点的坐标\n",
    "lat1 = 3.91  # 第一个点的纬度\n",
    "Par1 = 1   # 第一个点的 Par\n",
    "\n",
    "\n",
    "lat2 = 3.83  # 第二个点的纬度\n",
    "Par2 = 7   # 第二个点的 Par\n",
    "\n",
    "\n",
    "# 计算 a 的值\n",
    "numerator = math.log(( Par2) / (Par1))\n",
    "denominator = lat1 - lat2\n",
    "\n",
    "a = numerator / denominator\n",
    "\n",
    "print(\"The value of a is:\", a)\n"
   ],
   "outputs": [
    {
     "name": "stdout",
     "output_type": "stream",
     "text": [
      "The value of a is: 24.323876863191394\n"
     ]
    }
   ],
   "execution_count": 1
  },
  {
   "cell_type": "code",
   "id": "56f38737-fd64-49bf-908d-83d2ada37980",
   "metadata": {
    "ExecuteTime": {
     "end_time": "2024-06-18T07:12:04.254905Z",
     "start_time": "2024-06-18T07:12:04.237146Z"
    }
   },
   "source": [
    "Par1 = 64\n",
    "lat1 = 1.82\n",
    "\n",
    "\n",
    "\n",
    "cap1=Par1*math.exp(4.27*lat1)\n",
    "print(cap1)"
   ],
   "outputs": [
    {
     "name": "stdout",
     "output_type": "stream",
     "text": [
      "151794.52610204616\n"
     ]
    }
   ],
   "execution_count": 6
  },
  {
   "cell_type": "code",
   "execution_count": null,
   "id": "aac8f51e-2543-4e8b-98fc-5f3c6f665318",
   "metadata": {},
   "outputs": [],
   "source": []
  }
 ],
 "metadata": {
  "kernelspec": {
   "display_name": "Python 3 (ipykernel)",
   "language": "python",
   "name": "python3"
  },
  "language_info": {
   "codemirror_mode": {
    "name": "ipython",
    "version": 3
   },
   "file_extension": ".py",
   "mimetype": "text/x-python",
   "name": "python",
   "nbconvert_exporter": "python",
   "pygments_lexer": "ipython3",
   "version": "3.10.0"
  }
 },
 "nbformat": 4,
 "nbformat_minor": 5
}
